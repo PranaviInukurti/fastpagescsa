{
 "cells": [
  {
   "cell_type": "markdown",
   "metadata": {},
   "source": [
    "# Array Lesson - Team 5\n",
    "\n",
    "- toc: false \n",
    "- badges: true\n",
    "- comments: true\n",
    "- categories: [jupyter]\n"
   ]
  },
  {
   "cell_type": "markdown",
   "metadata": {},
   "source": [
    "### Arrays Overview\n",
    "\n",
    "- Arrays are 10-15% of the AP CSA Exam\n",
    "- The four main topics that College Board wants you to know:\n",
    "    - Array creation and access\n",
    "    - Traversing arrays\n",
    "    - Enhanced for loops for arrays\n",
    "    - Developing algorithms using arrays\n",
    "- The overall purpose of arrays is to store multiple values in a single variable, instead of declaring separate variables for each value."
   ]
  },
  {
   "cell_type": "markdown",
   "metadata": {},
   "source": [
    "### 6.1 Array Creation and Access\n"
   ]
  },
  {
   "cell_type": "markdown",
   "metadata": {},
   "source": [
    "### 6.2 Traversing Arrays"
   ]
  },
  {
   "cell_type": "markdown",
   "metadata": {},
   "source": [
    "### 6.3 Enhanced for loop for Arrays"
   ]
  },
  {
   "cell_type": "markdown",
   "metadata": {},
   "source": [
    "### 6.4 Developing Algorithms using Arrays"
   ]
  },
  {
   "cell_type": "markdown",
   "metadata": {},
   "source": [
    "Here are some algorithms that arrays can be used for (from college board standards)\n",
    "- Minimum and Maximum of a list of elements\n",
    "- Compute the sum, average, or mode of multiple elements\n",
    "- Determine if at least one element has a property\n",
    "- Access consecutive pairs of elements\n",
    "- Determine duplicates\n",
    "\n",
    "What to use when problem solving with arrays\n",
    "- ``.length`` can be used to find the length of an array\n",
    "- The value at a specific index can be found with ``array[i]``, where ``i`` is the index\n",
    "- An element at index ``i`` can be replaced using ``array[i] = new element``\n",
    "- You can iterate over an array with a for loop:\n",
    "\n",
    "```\n",
    "for(type element: array) {\n",
    "    \\\\ code here\n",
    "}\n",
    "```"
   ]
  },
  {
   "cell_type": "markdown",
   "metadata": {},
   "source": [
    "### Computing Sums with Arrays\n",
    "See the code below for a sample algorithm of how to compute the sum of elements in an array. This could be applied to finding the mean, standard deviation, or any other algorithm that requires summation. "
   ]
  },
  {
   "cell_type": "code",
   "execution_count": 6,
   "metadata": {
    "vscode": {
     "languageId": "java"
    }
   },
   "outputs": [
    {
     "name": "stdout",
     "output_type": "stream",
     "text": [
      "84\n"
     ]
    }
   ],
   "source": [
    "int[] array = {5,1,78}; //initialize \n",
    "\n",
    "int sum = 0; // variable to keep track of sum\n",
    "\n",
    "for (int number: array) { // this loops iterates over each number in the array\n",
    "    sum += number; // the number is added to the sum\n",
    "}\n",
    "\n",
    "System.out.println(sum); // the expected sum is 84, so 84 should be printed"
   ]
  },
  {
   "cell_type": "markdown",
   "metadata": {},
   "source": [
    "### Find max"
   ]
  },
  {
   "cell_type": "code",
   "execution_count": 5,
   "metadata": {
    "vscode": {
     "languageId": "java"
    }
   },
   "outputs": [],
   "source": [
    "// from college board\n",
    "\n",
    "private double findMax(double[] values) {\n",
    "    double max = values[0]; // initialize max with first element of array\n",
    "\n",
    "    for(int i=1; i<values.length; i++) { // starting with the second element, iterate over the rest of the array\n",
    "        if (values[i] > max) { // if the current element is greater than the max\n",
    "            max = values[i]; // set the max equal to the greatest value until that point\n",
    "        }\n",
    "    }\n",
    "\n",
    "    return max; \n",
    "}"
   ]
  },
  {
   "cell_type": "markdown",
   "metadata": {},
   "source": [
    "### Finding amount of even numbers"
   ]
  },
  {
   "cell_type": "code",
   "execution_count": 7,
   "metadata": {
    "vscode": {
     "languageId": "java"
    }
   },
   "outputs": [],
   "source": [
    "private int findEvenNumbers(int[] values) {\n",
    "    int evenCount = 0; // initalize count of even numbers to zero\n",
    "\n",
    "    for(int value: values) { // iterate over every element of array\n",
    "        if(value % 2 == 0) { // use modulus operator to check if value is even\n",
    "            evenCount += 1; // increment evenCount if the value is even\n",
    "        }\n",
    "    }\n",
    "\n",
    "    return evenCount; \n",
    "}"
   ]
  },
  {
   "cell_type": "markdown",
   "metadata": {},
   "source": [
    "### Hack 7 \n",
    "Return a left-shifted array.\n",
    "\n",
    "ex: \n",
    "- {7,9,4} --> {9,4,7}\n",
    "- {1,2,3} --> {2,3,1}\n",
    "- {0,9} --> {9,0}\n",
    "- {1} --> {1}"
   ]
  },
  {
   "cell_type": "markdown",
   "metadata": {},
   "source": [
    "### Hack 8\n",
    "Find the number of duplicate elements in an array. "
   ]
  },
  {
   "cell_type": "markdown",
   "metadata": {},
   "source": [
    "### Hack 9\n",
    "Use arrays to reverse a string. \n",
    "\n",
    "ex. \n",
    "- \"hello\" --> \"olleh\"\n",
    "- \"slay\" --> \"yals\"\n",
    "- \"mom\" --> \"mom\""
   ]
  }
 ],
 "metadata": {
  "kernelspec": {
   "display_name": "Java",
   "language": "java",
   "name": "java"
  },
  "language_info": {
   "codemirror_mode": "java",
   "file_extension": ".jshell",
   "mimetype": "text/x-java-source",
   "name": "Java",
   "pygments_lexer": "java",
   "version": "11.0.16+8-post-Ubuntu-0ubuntu120.04"
  },
  "orig_nbformat": 4
 },
 "nbformat": 4,
 "nbformat_minor": 2
}
