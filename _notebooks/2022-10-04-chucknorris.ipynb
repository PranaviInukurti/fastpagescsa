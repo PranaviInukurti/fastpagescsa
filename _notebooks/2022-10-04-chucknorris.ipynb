{
 "cells": [
  {
   "cell_type": "markdown",
   "metadata": {},
   "source": [
    "# Chuck Norris API"
   ]
  },
  {
   "cell_type": "code",
   "execution_count": 6,
   "metadata": {
    "vscode": {
     "languageId": "java"
    }
   },
   "outputs": [
    {
     "name": "stdout",
     "output_type": "stream",
     "text": [
      "{\"joke\":\"Chuck Norris hat beim Pokern gewonnen, mit Pokemon-Karten\"}\n"
     ]
    }
   ],
   "source": [
    "import  java.net.http.HttpRequest;\n",
    "import  java.net.http.HttpResponse;\n",
    "import  java.net.http.HttpClient;\n",
    "import java.net.URI;\n",
    "\n",
    "HttpRequest request = HttpRequest.newBuilder()\n",
    "\t\t.uri(URI.create(\"https://chuck-norris-jokes.p.rapidapi.com/de/jokes/random\"))\n",
    "\t\t.header(\"X-RapidAPI-Key\", \"644e68648emsh4cd27460fc55318p1db393jsn3ea02f46215c\")\n",
    "\t\t.header(\"X-RapidAPI-Host\", \"chuck-norris-jokes.p.rapidapi.com\")\n",
    "\t\t.method(\"GET\", HttpRequest.BodyPublishers.noBody())\n",
    "\t\t.build();\n",
    "HttpResponse<String> response = HttpClient.newHttpClient().send(request, HttpResponse.BodyHandlers.ofString());\n",
    "System.out.println(response.body());"
   ]
  }
 ],
 "metadata": {
  "kernelspec": {
   "display_name": "Java",
   "language": "java",
   "name": "java"
  },
  "language_info": {
   "codemirror_mode": "java",
   "file_extension": ".jshell",
   "mimetype": "text/x-java-source",
   "name": "Java",
   "pygments_lexer": "java",
   "version": "17.0.4+8"
  },
  "orig_nbformat": 4
 },
 "nbformat": 4,
 "nbformat_minor": 2
}
