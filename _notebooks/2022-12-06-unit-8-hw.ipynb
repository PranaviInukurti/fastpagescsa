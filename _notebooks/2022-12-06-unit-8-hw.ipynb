{
 "cells": [
  {
   "cell_type": "markdown",
   "metadata": {},
   "source": [
    "# Unit 8 Homework\n",
    "- toc: true \n",
    "- badges: true\n",
    "- comments: true\n",
    "- categories: [jupyter]"
   ]
  },
  {
   "cell_type": "markdown",
   "metadata": {},
   "source": [
    "### Homework Hacks\n",
    "> Create a class for 2D array learning, a new object to test out each method in the main function, and methods to initialize a 2D array with arbitrary values, reverse the 2D array and print out the values, that ask for the input of a position and it returns the corresponding value, and that multiply each value in a row and then adds all the products together."
   ]
  },
  {
   "cell_type": "code",
   "execution_count": 29,
   "metadata": {
    "vscode": {
     "languageId": "java"
    }
   },
   "outputs": [
    {
     "name": "stdout",
     "output_type": "stream",
     "text": [
      "Initial Array\n",
      "2 1 1 9 4  \n",
      "5 2 10 7 10  \n",
      "2 8 2 8 7  \n",
      "\n",
      "Reversed Array\n",
      "2 8 2 8 7  \n",
      "5 2 10 7 10  \n",
      "2 1 1 9 4  \n",
      "\n",
      "\n",
      "Input a row number\n",
      "1\n",
      "Input a column number\n",
      "2\n",
      "At that position in the array, the value is: 10\n",
      "\n",
      "\n",
      "When row is: 0, product is: 72 \n",
      "When row is: 1, product is: 7000 \n",
      "When row is: 2, product is: 1792 \n",
      "The sum of all of the products is: 8865\n",
      "\n"
     ]
    }
   ],
   "source": [
    "// class for 2D array\n",
    "public class twoDArray {\n",
    "\n",
    "    \n",
    "    private int[][] numbers;\n",
    "\n",
    "    public twoDArray(){\n",
    "        numbers = new int [3][5];\n",
    "        this.numbers = numbers; \n",
    "    } \n",
    "\n",
    "\t// method for initializing 2D array with arbitrary values\n",
    "    public void initValues(){\n",
    "        System.out.println(\"Initial Array\");\n",
    "        Random random = new Random();\n",
    "        for(int i = 0; i < numbers.length;i++){\n",
    "        for(int j = 0; j <numbers[i].length;j++){ \n",
    "            numbers[i][j] = random.nextInt(11 - 1) + 1;\n",
    "            System.out.print(numbers[i][j]+\" \");\n",
    "        }\n",
    "        System.out.println(\" \");\n",
    "        }\n",
    "    }\n",
    "\n",
    "\t// method for reversing 2D array and printing out values\n",
    "    public void revArray() {\n",
    "        System.out.println(\"\\nReversed Array\");\n",
    "        for(int i = numbers.length-1;i>=0;i--){\n",
    "        for(int j = 0; j <numbers[i].length;j++){ \n",
    "            System.out.print(numbers[i][j]+\" \");\n",
    "        }\n",
    "        System.out.println(\" \");\n",
    "        }\n",
    "        System.out.println(\"\\n\");\n",
    "        \n",
    "    }\n",
    "\n",
    "\t// method that multiplies each value in a row and then adds all the products together\n",
    "\tpublic void productSum() {\n",
    "\t\n",
    "\t\tint finalProduct = 1;\n",
    "\t\tfor(int i = 0;i<numbers.length;i++){\n",
    "\t\t\tint product = 1; \n",
    "\t\t\tfor(int j = 0; j < numbers[i].length;j++){ \n",
    "\t\t\t\tproduct = product * numbers[i][j];\n",
    "\t\t\t\t\n",
    "\t\t\t}\n",
    "\t\t\tSystem.out.print(\"When row is: \" + i + \", product is: \" + product);\n",
    "\t\t\tSystem.out.println(\" \");\n",
    "\t\t\tfinalProduct += product; \n",
    "\t\t}\n",
    "\n",
    "\t\tSystem.out.print(\"The sum of all of the products is: \" + finalProduct);\n",
    "\t\tSystem.out.println(\"\\n\");\n",
    "\n",
    "\t}\n",
    "\n",
    "\t// method that asks for the input of a position and it returns the corresponding value\n",
    "    public void outputArrayValue() {\n",
    "\n",
    "        Scanner myObj = new Scanner(System.in);  \n",
    "        System.out.println(\"Input a row number\");\n",
    "\n",
    "        String arrayValue1 = myObj.nextLine();  \n",
    "        System.out.println(arrayValue1);\n",
    "        int numArrayValue1 = Integer.parseInt(arrayValue1); \n",
    "\n",
    "        System.out.println(\"Input a column number\");\n",
    "\n",
    "        String arrayValue2 = myObj.nextLine();  \n",
    "        System.out.println(arrayValue2);\n",
    "        int numArrayValue2 = Integer.parseInt(arrayValue2); \n",
    "\n",
    "        System.out.println(\"At that position in the array, the value is: \" + numbers[numArrayValue1][numArrayValue2]);\n",
    "        System.out.println(\"\\n\");\n",
    "            }\n",
    "\n",
    "\t\n",
    "}\n",
    "// new object to test out each method in the main function\n",
    "twoDArray anArray = new twoDArray(); \n",
    "anArray.initValues();\n",
    "anArray.revArray();\n",
    "anArray.outputArrayValue(); \n",
    "anArray.productSum();"
   ]
  }
 ],
 "metadata": {
  "kernelspec": {
   "display_name": "Java",
   "language": "java",
   "name": "java"
  },
  "language_info": {
   "codemirror_mode": "java",
   "file_extension": ".jshell",
   "mimetype": "text/x-java-source",
   "name": "Java",
   "pygments_lexer": "java",
   "version": "17.0.4+8"
  },
  "orig_nbformat": 4
 },
 "nbformat": 4,
 "nbformat_minor": 2
}
