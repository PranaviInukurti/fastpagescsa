{
 "cells": [
  {
   "cell_type": "markdown",
   "metadata": {},
   "source": [
    "# Trimester 1 APCSA Notes\n",
    "- toc: true \n",
    "- badges: true\n",
    "- comments: true\n",
    "- categories: [jupyter]"
   ]
  },
  {
   "cell_type": "markdown",
   "metadata": {},
   "source": [
    "--- \n",
    "# Trimester 1 Notes\n",
    "\n",
    "## Unit 1 Primitive Types\n",
    "\n",
    "- Primitive types categorized into two types of data types\n",
    "    - Primitive data types - includes byte, short, int, long, float, double, boolean and char\n",
    "    - Non-primitive data types - such as String, Arrays and Classes\n",
    "- There are eight primitive types\n",
    "    - A Byte (1 byte) and stores whole numbers from -128 to 127\n",
    "    - A short (2 bytes) and stores whole numbers from -32,768 to 32,767\n",
    "    - An int (4 bytes) and stores whole numbers from -2,147,483,648 to 2,147,483,647\n",
    "    - A long (8 bytes) and stores whole numbers from -9,223,372,036,854,775,808 to 9,223,372,036,854,775,807\n",
    "    - A float (4 bytes)\tand stores fractional numbers which is great when storing 6 to 7 decimal digits\n",
    "    - A double (8 bytes) and stores fractional numbers which is great when storing 15 decimal digits\n",
    "    - A boolean\t(1 bit) and stores only 2 values, true or false\n",
    "    - A char (2 bytes) and stores a single character/letter or ASCII values\n",
    "\n",
    "## Unit 2 Using Objects\n",
    "\n",
    "- Java is object-oriented programming language (OOP)\n",
    "    - Everything in Java is associated with classes and objects, along with its attributes and methods. In real life, a car is an object and has attributes, like weight and color, and methods, like drive and brake.\n",
    "    - A Class is like an object constructor, or a \"blueprint\" for creating objects.\n",
    "- To create classes, use the keyword \"class\" (usually main class is created)\n",
    "- In Java, an object is created from a class. We have already created the class named Main, so now we can use this to create objects.\n",
    "- You can also create multiple objects for one class\n",
    "\n",
    "## Unit 3 Boolean Expressions and if Statements\n",
    "\n",
    "- Boolean is a primitive data type that can only store true or false values\n",
    "- Boolean can be declared with the keyword \"boolean\""
   ]
  },
  {
   "cell_type": "code",
   "execution_count": 2,
   "metadata": {},
   "outputs": [
    {
     "name": "stdout",
     "output_type": "stream",
     "text": [
      "You are right.\n"
     ]
    }
   ],
   "source": [
    "import java.util.Scanner;\n",
    "public class booleanExample //define class using class keyword\n",
    "{\n",
    "    public static void main(String[] args) //java main method\n",
    "{\n",
    "    boolean isCorrect = true; //declare the boolean variables using boolean keyword\n",
    "    boolean isWrong = false; \n",
    "    if (isCorrect)\n",
    "    {\n",
    "        System.out.println(\"You are right.\");\n",
    "    }\n",
    "    else\n",
    "    {\n",
    "        System.out.println(\"You are wrong.\");\n",
    "    }\n",
    "}\n",
    "}\n",
    "booleanExample.main(null);"
   ]
  },
  {
   "cell_type": "markdown",
   "metadata": {},
   "source": [
    "This can also be used to compare values and numbers. For example, using a comparison operator, like the > operator, we can find out if an expression is true. This can be easily used in real life situations like the following."
   ]
  },
  {
   "cell_type": "code",
   "execution_count": 3,
   "metadata": {},
   "outputs": [
    {
     "name": "stdout",
     "output_type": "stream",
     "text": [
      "false\n"
     ]
    }
   ],
   "source": [
    "int myAge = 16; // stating the two integers with their values\n",
    "int votingAge = 18;\n",
    "System.out.println(myAge > votingAge); // returns false, because 16 is less than 18"
   ]
  },
  {
   "cell_type": "markdown",
   "metadata": {},
   "source": [
    "## Unit 4 Iteration\n",
    "\n",
    "- An Iterator is an object that loops through collection\n",
    "- To use an Iterator in Java, you must import it from the java.util package.\n",
    "- To get an Iterator, the iterator() method can be used\n",
    "- There are three types of iterations that can be used\n",
    "    - For Loops\n",
    "    - While Loops\n",
    "    - Recursions\n",
    "- You can also add or remove numbers using an Iterator"
   ]
  },
  {
   "cell_type": "code",
   "execution_count": null,
   "metadata": {},
   "outputs": [],
   "source": [
    "import java.util.ArrayList;\n",
    "import java.util.Iterator;\n",
    "\n",
    "public class Main {\n",
    "  public static void main(String[] args) {\n",
    "    ArrayList<Integer> numbers = new ArrayList<Integer>();\n",
    "    numbers.add(12);\n",
    "    numbers.add(8);\n",
    "    numbers.add(2);\n",
    "    numbers.add(23);\n",
    "    Iterator<Integer> it = numbers.iterator();\n",
    "    while(it.hasNext()) {\n",
    "      Integer i = it.next();\n",
    "      if(i < 10) {\n",
    "        it.remove();\n",
    "      }\n",
    "    }\n",
    "    System.out.println(numbers);\n",
    "  }\n",
    "}"
   ]
  },
  {
   "cell_type": "markdown",
   "metadata": {},
   "source": [
    "## Unit 5 Writing Class\n",
    "\n",
    "- There are a couple of steps to writing a class\n",
    "    - make sure to use the class keyword to create a class in the start\n",
    "    - To create an object of Main, specify the class name, followed by the object name, and use the keyword new\n",
    "        - Constructors are used to create new objects\n",
    "- Instance variables are used to store any information regarding objects created in a class\n",
    "- Methods are used to show programs a new command they must run\n",
    "    - specific methods are used to perform specific tasks in a class\n",
    "\n",
    "## Unit 6 Array\n",
    "\n",
    "- Used to store multiple values in a single variable\n",
    "- To declare an array, define the variable type with square brackets and insert values formatted in a comma-separated list, using curly braces\n",
    "\n",
    "```\n",
    "String[] cars = {\"Volvo\", \"BMW\", \"Ford\", \"Mazda\"};\n",
    "```\n",
    "\n",
    "- Access array elements by referring to the index number in the array. The counting for the elements starts at 0. \n",
    "\n",
    "```\n",
    "System.out.println(cars[0]);\n",
    "```\n",
    "\n",
    "- You can also change the value of a specific element using the index number\n",
    "- To find out how many elements an array has, use the length property\n",
    "\n",
    "```\n",
    "String[] cars = {\"Volvo\", \"BMW\", \"Ford\", \"Mazda\"};\n",
    "System.out.println(cars.length);\n",
    "```\n",
    "\n",
    "## Unit 7 Arraylist\n",
    "\n",
    "- The ArrayList class is a resizable array, which can be found in the java.util package\n",
    "- The size of an Array cannot be modified so if you want to add or remove elements to/from an array, you have to create a new one whereas for Arraylists, elements can be added and removed whenever you want\n",
    "    - The syntax for each type is also different\n",
    "- The ArrayList class has many useful methods. For example, to add elements to the ArrayList, use the add() method\n",
    "\n",
    "```\n",
    "import java.util.ArrayList;\n",
    "\n",
    "public class Main {\n",
    "  public static void main(String[] args) {\n",
    "    ArrayList<String> cars = new ArrayList<String>();\n",
    "    cars.add(\"Volvo\");\n",
    "    cars.add(\"BMW\");\n",
    "    cars.add(\"Ford\");\n",
    "    cars.add(\"Mazda\");\n",
    "    System.out.println(cars);\n",
    "  }\n",
    "}\n",
    "```\n",
    "\n",
    "- To access an element in the ArrayList, use the get() method and refer to the index number\n",
    "\n",
    "``` \n",
    "cars.get(0);\n",
    "```\n",
    "\n",
    "## Unit 8 2D Array\n",
    "\n",
    "- A 2D Array is the simplest form of a multidimensional array\n",
    "- The syntax for declaration is \n",
    "\n",
    "```\n",
    "data_type[][] array_name = new data_type[x][y];\n",
    "        int[][] arr = new int[10][20];\n",
    "```\n",
    "\n",
    "- The syntax for initialization is\n",
    "\n",
    "```\n",
    "array_name[row_index][column_index] = value;\n",
    "        arr[0][0] = 1;\n",
    "```\n",
    "\n",
    "- Elements in two-dimensional arrays are commonly referred by x[i][j] where ‘i’ is the row number and ‘j’ is the column number\n",
    "- To output all the elements of a 2D array, use nested for loops\n",
    "  - For this 2 for loops are needed, one to traverse the rows and another to traverse the columns\n",
    "\n",
    "## Unit 9 Inheritance\n",
    "\n",
    "- Inheritance is essentially what attributes/methods the child class inherits from the parent class\n",
    "  - This can be used with the fibonacci sequence mini-lab earlier in the trimester\n",
    "  - Is useful when you want to inherit the same attributed and methods from another class\n",
    "    - \"this\" is used when referring to the current object in the method\n",
    "    - \"super\" is used to call any superclass method like the parent class\n",
    "\n",
    "## Unit 10 Recursion\n",
    "\n",
    "- Recursion is used to make a function call itself and breaks complicated problems down into simple problems\n",
    "- Use recursion to add all of the numbers up to 10"
   ]
  },
  {
   "cell_type": "code",
   "execution_count": null,
   "metadata": {},
   "outputs": [],
   "source": [
    "public class Main {\n",
    "    public static void main(String[] args) {\n",
    "      int result = sum(10);\n",
    "      System.out.println(result);\n",
    "    }\n",
    "    public static int sum(int k) {\n",
    "      if (k > 0) {\n",
    "        return k + sum(k - 1);\n",
    "      } else {\n",
    "        return 0;\n",
    "      }\n",
    "    }\n",
    "  }  "
   ]
  },
  {
   "cell_type": "markdown",
   "metadata": {},
   "source": [
    "When the sum() function is called, it adds parameter k to the sum of all numbers smaller than k and returns the result. When k becomes 0, the function just returns 0. Since the function does not call itself when k is 0, the program stops there and returns the result."
   ]
  }
 ],
 "metadata": {
  "kernelspec": {
   "display_name": "Java",
   "language": "java",
   "name": "java"
  },
  "language_info": {
   "codemirror_mode": "java",
   "file_extension": ".jshell",
   "mimetype": "text/x-java-source",
   "name": "java",
   "pygments_lexer": "java",
   "version": "17.0.4+8"
  },
  "orig_nbformat": 4,
  "vscode": {
   "interpreter": {
    "hash": "b0fa6594d8f4cbf19f97940f81e996739fb7646882a419484c72d19e05852a7e"
   }
  }
 },
 "nbformat": 4,
 "nbformat_minor": 2
}
