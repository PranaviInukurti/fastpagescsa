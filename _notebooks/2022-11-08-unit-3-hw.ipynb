{
 "cells": [
  {
   "cell_type": "markdown",
   "metadata": {},
   "source": [
    "# Unit 3 Team HW\n",
    "> Boolean Expressions and if Statements\n",
    "\n",
    "- toc: true \n",
    "- badges: true\n",
    "- comments: true\n",
    "- categories: [jupyter]\n",
    "- image: images/bashPreview.jpg"
   ]
  },
  {
   "cell_type": "markdown",
   "metadata": {},
   "source": [
    "## Quizz Completion \n",
    "\n",
    "![](../images/quizzCompletion.PNG)"
   ]
  },
  {
   "cell_type": "markdown",
   "metadata": {},
   "source": [
    "## Conditionals Exercises #1-20 Even "
   ]
  },
  {
   "cell_type": "code",
   "execution_count": 1,
   "metadata": {
    "vscode": {
     "languageId": "java"
    }
   },
   "outputs": [
    {
     "name": "stdout",
     "output_type": "stream",
     "text": [
      "Input a: 1.0Input b: 5.0Input c: 2.0Roots are-0.4384471871911697 and -4.561552812808831\n"
     ]
    }
   ],
   "source": [
    "//exercise 2\n",
    "import java.util.Scanner;\n",
    "\n",
    "    \n",
    "  \n",
    "          Scanner input = new Scanner(System.in);\n",
    "  \n",
    "              System.out.print(\"Input a: \");\n",
    "              double a = input.nextDouble();\n",
    "              System.out.print(a);\n",
    "              System.out.print(\"Input b: \");\n",
    "              double b = input.nextDouble();\n",
    "              System.out.print(b);\n",
    "              System.out.print(\"Input c: \");\n",
    "              double c = input.nextDouble();\n",
    "              System.out.print(c);\n",
    "  \n",
    "              double result = b * b - 4.0 * a * c;\n",
    "  \n",
    "              if (result > 0.0) {\n",
    "                  double r1 = (-b + Math.pow(result, 0.5)) / (2.0 * a);\n",
    "                  double r2 = (-b - Math.pow(result, 0.5)) / (2.0 * a);\n",
    "                  System.out.println(\"Roots are\" + r1 + \" and \" + r2);\n",
    "              } else if (result == 0.0) {\n",
    "                  double r1 = -b / (2.0 * a);\n",
    "                  System.out.println(\"Root is \" + r1);\n",
    "              } else {\n",
    "                  System.out.println(\"No real roots.\");\n",
    "              }\n",
    "  \n",
    "      \n",
    "    "
   ]
  },
  {
   "cell_type": "code",
   "execution_count": 2,
   "metadata": {
    "vscode": {
     "languageId": "java"
    }
   },
   "outputs": [
    {
     "name": "stdout",
     "output_type": "stream",
     "text": [
      "Input: 30.0Positive number\n"
     ]
    }
   ],
   "source": [
    "//exercise 4\n",
    "Scanner in = new Scanner(System.in);\n",
    "System.out.print(\"Input: \");\n",
    "double input = in.nextDouble();\n",
    "System.out.print(input);\n",
    "if (input > 0)\n",
    "        {\n",
    "            if (input < 1)\n",
    "            {\n",
    "                System.out.println(\"Positive small number\");\n",
    "            }\n",
    "            else if (input > 1000000)\n",
    "            {\n",
    "                System.out.println(\"Positive large number\");\n",
    "            }\n",
    "            else\n",
    "            {\n",
    "                System.out.println(\"Positive number\");\n",
    "            }\n",
    "        }\n",
    "        else if (input < 0)\n",
    "        {\n",
    "            if (Math.abs(input) < 1)\n",
    "            {\n",
    "                System.out.println(\"Negative small number\");\n",
    "            }\n",
    "            else if (Math.abs(input) > 1000000)\n",
    "            {\n",
    "                System.out.println(\"Negative large number\");\n",
    "            }\n",
    "            else\n",
    "            {\n",
    "                System.out.println(\"Negative number\");\n",
    "            }\n",
    "        }\n",
    "        else\n",
    "        {\n",
    "            System.out.println(\"Zero\");\n",
    "        }"
   ]
  },
  {
   "cell_type": "code",
   "execution_count": 3,
   "metadata": {
    "vscode": {
     "languageId": "java"
    }
   },
   "outputs": [
    {
     "name": "stdout",
     "output_type": "stream",
     "text": [
      "Double 1: 25.586Double 2: 25.589Different\n"
     ]
    }
   ],
   "source": [
    "// exercise 6\n",
    " \n",
    "Scanner in = new Scanner(System.in);\n",
    "\n",
    "System.out.print(\"Double 1: \");\n",
    "double num1 = in.nextDouble();\n",
    "System.out.print(num1);\n",
    "System.out.print(\"Double 2: \");\n",
    "double num2 = in.nextDouble();\n",
    "System.out.print(num2); \n",
    "\n",
    "num1 = Math.round(num1 * 1000);\n",
    "num1 = num1 / 1000;\n",
    "\n",
    "num2 = Math.round(num2 * 1000);\n",
    "num2 = num2 / 1000;\n",
    "\n",
    "if (num1 == num2)\n",
    "{\n",
    "    System.out.println(\"Same up to three decimal places\");\n",
    "}\n",
    "else\n",
    "{\n",
    "    System.out.println(\"Different\");\n",
    "}"
   ]
  },
  {
   "cell_type": "code",
   "execution_count": 4,
   "metadata": {
    "vscode": {
     "languageId": "java"
    }
   },
   "outputs": [
    {
     "name": "stdout",
     "output_type": "stream",
     "text": [
      "Type a letter: a\n",
      "Input letter is Vowel\n"
     ]
    }
   ],
   "source": [
    "// exercise 8\n",
    "\n",
    "Scanner in = new Scanner(System.in);\n",
    "\n",
    "System.out.print(\"Type a letter: \");\n",
    "String input = in.next().toLowerCase();\n",
    "System.out.println(input);\n",
    "\n",
    "boolean uppercase = input.charAt(0) >= 65 && input.charAt(0) <= 90;\n",
    "boolean lowercase = input.charAt(0) >= 97 && input.charAt(0) <= 122;\n",
    "boolean vowels = input.equals(\"a\") || input.equals(\"e\") || input.equals(\"i\")\n",
    "        || input.equals(\"o\") || input.equals(\"u\");\n",
    "\n",
    "if (input.length() > 1)\n",
    "{\n",
    "    System.out.println(\"Error. Not a single character.\");\n",
    "}\n",
    "else if (!(uppercase || lowercase))\n",
    "{\n",
    "    System.out.println(\"Error. Not a letter. Enter uppercase or lowercase letter.\");\n",
    "}\n",
    "else if (vowels)\n",
    "{\n",
    "    System.out.println(\"Input letter is Vowel\");\n",
    "}\n",
    "else\n",
    "{\n",
    "    System.out.println(\"Input letter is Consonant\");\n",
    "}"
   ]
  },
  {
   "cell_type": "code",
   "execution_count": 5,
   "metadata": {
    "vscode": {
     "languageId": "java"
    }
   },
   "outputs": [
    {
     "name": "stdout",
     "output_type": "stream",
     "text": [
      "First 10 natural numbers:\n",
      "1\n",
      "2\n",
      "3\n",
      "4\n",
      "5\n",
      "6\n",
      "7\n",
      "8\n",
      "9\n",
      "10\n",
      "\n",
      "\n"
     ]
    }
   ],
   "source": [
    "// exercise 10\n",
    "\n",
    "int i;\n",
    "System.out.println (\"First 10 natural numbers:\");\n",
    "for (i = 1;i <= 10;i++)\n",
    "{      \n",
    "    System.out.println(i);\n",
    "}\n",
    "System.out.println (\"\\n\");"
   ]
  },
  {
   "cell_type": "markdown",
   "metadata": {},
   "source": [
    "## 2019 FRQ 1"
   ]
  },
  {
   "cell_type": "code",
   "execution_count": null,
   "metadata": {
    "vscode": {
     "languageId": "java"
    }
   },
   "outputs": [],
   "source": [
    "// part a\n",
    "public static int numberOfLeapYears(int year1, int year2)\n",
    "{  \n",
    "   int numLeapYears = 0;\n",
    "   for (int i = year1; i <= year2; i++) {\n",
    "       if (isLeapYear(i)) {\n",
    "           numLeapYears ++;\n",
    "       }\n",
    "   }\n",
    "   return numLeapYears; \n",
    "\n",
    "}"
   ]
  },
  {
   "cell_type": "code",
   "execution_count": null,
   "metadata": {
    "vscode": {
     "languageId": "java"
    }
   },
   "outputs": [],
   "source": [
    "// part b\n",
    "public static int dayOfWeek(int month, int day, int year)\n",
    " {  \n",
    "    int firstDay = firstDayOfYear(year);\n",
    "    int theDate = dayOfYear(month, day year);\n",
    "    int theDay = (firstDay + theDate - 1) % 7;\n",
    "    return theDay;\n",
    " }"
   ]
  },
  {
   "cell_type": "code",
   "execution_count": null,
   "metadata": {
    "vscode": {
     "languageId": "java"
    }
   },
   "outputs": [],
   "source": [
    "public class APCalendar\n",
    "{\n",
    " /** Returns true if year is a leap year and false otherwise. */\n",
    " private static boolean isLeapYear(int year)\n",
    " { /* implementation not shown */ }\n",
    " /** Returns the number of leap years between year1 and year2, inclusive.\n",
    " * Precondition: 0 <= year1 <= year2\n",
    " */\n",
    " public static int numberOfLeapYears(int year1, int year2)\n",
    " { /* to be implemented in part (a) */ \n",
    "    int numLeapYears = 0;\n",
    "    for (int i = year1; i <= year2; i++) {\n",
    "        if (isLeapYear(i)) {\n",
    "            numLeapYears ++;\n",
    "        }\n",
    "    }\n",
    "    return numLeapYears; \n",
    "\n",
    "}\n",
    " /** Returns the value representing the day of the week for the first day of year,\n",
    " * where 0 denotes Sunday, 1 denotes Monday, ..., and 6 denotes Saturday.\n",
    " */\n",
    " private static int firstDayOfYear(int year)\n",
    " { /* implementation not shown */ }\n",
    "\n",
    " /** Returns n, where month, day, and year specify the nth day of the year.\n",
    " * Returns 1 for January 1 (month = 1, day = 1) of any year.\n",
    " * Precondition: The date represented by month, day, year is a valid date.\n",
    " */\n",
    " private static int dayOfYear(int month, int day, int year)\n",
    " { /* implementation not shown */ }\n",
    "\n",
    " /** Returns the value representing the day of the week for the given date\n",
    " * (month, day, year), where 0 denotes Sunday, 1 denotes Monday, ...,\n",
    " * and 6 denotes Saturday.\n",
    " * Precondition: The date represented by month, day, year is a valid date.\n",
    " */\n",
    " public static int dayOfWeek(int month, int day, int year)\n",
    " {  \n",
    "    int firstDay = firstDayOfYear(year);\n",
    "    int theDate = dayOfYear(month, day year);\n",
    "    int theDay = (firstDay + theDate - 1) % 7;\n",
    "    return theDay;\n",
    " }\n",
    " // There may be instance variables, constructors, and other methods not shown.\n",
    "} "
   ]
  }
 ],
 "metadata": {
  "kernelspec": {
   "display_name": "Java",
   "language": "java",
   "name": "java"
  },
  "language_info": {
   "codemirror_mode": "java",
   "file_extension": ".jshell",
   "mimetype": "text/x-java-source",
   "name": "Java",
   "pygments_lexer": "java",
   "version": "17.0.4+8"
  },
  "orig_nbformat": 4,
  "vscode": {
   "interpreter": {
    "hash": "b0fa6594d8f4cbf19f97940f81e996739fb7646882a419484c72d19e05852a7e"
   }
  }
 },
 "nbformat": 4,
 "nbformat_minor": 2
}
