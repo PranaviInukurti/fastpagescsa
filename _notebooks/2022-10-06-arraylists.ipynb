{
 "cells": [
  {
   "cell_type": "markdown",
   "metadata": {},
   "source": [
    "# ArrayLists Lesson\n",
    "> A lesson/set of notes on the basics of Arraylists\n",
    "\n",
    "- toc: false \n",
    "- badges: true\n",
    "- comments: true\n",
    "- categories: [jupyter]"
   ]
  },
  {
   "cell_type": "markdown",
   "metadata": {},
   "source": [
    "### Arrays vs ArrayLists\n",
    "\n",
    "The main difference between an array and an arraylist is that arraylists can grow and shrink whereas arrays can't. Arrays have a fixed length so once it is full, more elements cannot be added. If elements are removed from an Arrays, the maximum about of space will not shrink. However, ArrayLists can adjust dynamically in regards to elements. Essentially in Java, ArrayLists can:\n",
    "* ArrayList can grow and shrink based on the whether you add / remove elements\n",
    "* ArrayList can contain duplicate elements\n",
    "* ArrayList maintains the insertion order (elements appear in the same order in which they are inserted)\n"
   ]
  },
  {
   "cell_type": "markdown",
   "metadata": {},
   "source": [
    "### Methods of ArrayLists"
   ]
  },
  {
   "cell_type": "markdown",
   "metadata": {},
   "source": [
    "* addAll(int index, Collection collection)\n",
    "    * Adds all elements in the above collection to the list; and when a parameter is passed, it adds all the elements of the collection to the end\n",
    "* add(int index, element) \n",
    "    * Adds an element at a specific spot in the list; but when a parameter is passed, it will just add the element at the end\n",
    "* clear() \n",
    "    * Removes all the elements in the list\n",
    "    * Reference of the list created is still stored.\n",
    "* containsAll(Collection collection) \n",
    "    * Checks if the list contains all the elements in the mentioned collection\n",
    "* contains(element) \n",
    "    * Checks if the list contains the mentioned element\n",
    "        * Returns true if the element is in the list\n",
    "* equals(element) \n",
    "    * Compares the equality of the mentioned element with other present elements\n",
    "* get(int index) \n",
    "    * Returns elements at the specified index\n",
    "* hashCode() \n",
    "    * Returns the hashcode (an integer value that is associated with each object in Java language) value of the list\n",
    "* indexOf(element) \n",
    "    * Returns the first-placed of the mentioned element\n",
    "        * Returns -1 if the element isn't prevalent in the list\n",
    "* isEmpty() \n",
    "    * Checks if the list is empty or not\n",
    "        * Returns true if the list is empty\n",
    "        * Returns false if the list isn't empty\n",
    "* lastIndexOf(element) \n",
    "    * Returns the last-placed of the mentioned element\n",
    "        * Returns -1 if the element isn't prevalent in the list\n",
    "* remove(element) \n",
    "    * Removes first-placed of the mentioned element in the list\n",
    "* remove(int index) \n",
    "    * Removes an element from the specified index and shifts subsequent elements to the left along with decreasing indexes by 1\n",
    "* set(int index, element) \n",
    "    * Replaces elements at a given index with the new element\n",
    "    * Returns the newly replaced element as a new element\n",
    "* size() \n",
    "    * Returns the list's size\n",
    "* sort(Comparator comp) \n",
    "    * Sorts the elements in the list based on the mentioned comparator"
   ]
  },
  {
   "cell_type": "markdown",
   "metadata": {},
   "source": [
    "### ArrayList Example: Possible Data Structure for Students Signed Up for Website"
   ]
  },
  {
   "cell_type": "code",
   "execution_count": 30,
   "metadata": {
    "vscode": {
     "languageId": "java"
    }
   },
   "outputs": [
    {
     "name": "stdout",
     "output_type": "stream",
     "text": [
      "Starting Students Signed Up:\n",
      "Rebecca\n",
      "Saathvika\n",
      "Sarayu\n",
      "Prisha\n",
      "William\n",
      "Vidhi\n",
      "Shreya\n",
      "Tianbin\n",
      "the students are added to the arrayList\n",
      "Updated Students List (Additions):\n",
      "Rohan\n",
      "Surya\n",
      "Rebecca\n",
      "Saathvika\n",
      "Sarayu\n",
      "Prisha\n",
      "William\n",
      "Vidhi\n",
      "Shreya\n",
      "Tianbin\n",
      "Updated Students List (Removals):\n",
      "Rohan\n",
      "Surya\n",
      "Rebecca\n",
      "Prisha\n",
      "William\n",
      "Vidhi\n",
      "Shreya\n",
      "Tianbin\n",
      "Final Students List:\n",
      "Rohan\n",
      "Rebecca\n",
      "Prisha\n",
      "William\n",
      "Vidhi\n",
      "Shreya\n",
      "Tianbin\n"
     ]
    }
   ],
   "source": [
    "import java.util.*;\n",
    "public class JavaExample {\n",
    "   public static void main(String args[]) {\n",
    "      /* Creating ArrayList of type \"String\"*/\n",
    "      ArrayList<String> obj = new ArrayList<String>();\n",
    "\n",
    "      /*dds elements to the ArrayList*/\n",
    "      obj.add(\"Rebecca\");\n",
    "      obj.add(\"Saathvika\");\n",
    "      obj.add(\"Sarayu\");\n",
    "      obj.add(\"Prisha\");\n",
    "      obj.add(\"William\");\n",
    "      obj.add(\"Vidhi\");\n",
    "      obj.add(\"Shreya\");\n",
    "      obj.add(\"Tianbin\");\n",
    "\n",
    "      // Displaying elements\n",
    "      System.out.println(\"Starting Students Signed Up:\");\n",
    "      for(String str:obj)\n",
    "         System.out.println(str); \n",
    "      \n",
    "      System.out.println(\"the students are added to the arrayList\");\n",
    "\n",
    "      /* Adds element at the stated index in the list\n",
    "       * obj.add(0, \"Rohan\") - Adding element \"Rohan\" to the first position in the list\n",
    "       * obj.add(1, \"Surya\") - Adding element \"Surya\" to the second position in the list\n",
    "       */\n",
    "\n",
    "      obj.add(0, \"Rohan\");\n",
    "      obj.add(1, \"Surya\");\n",
    "\n",
    "      // Displaying elements of the new list\n",
    "      System.out.println(\"Updated Students List (Additions):\");\n",
    "      for(String str:obj)\n",
    "         System.out.println(str);\n",
    "\n",
    "      //Remove elements from the ArrayList\n",
    "      obj.remove(\"Sarayu\"); //Removes \"Sarayu\" from the list\n",
    "      obj.remove(\"Saathvika\"); //Removes \"Saathvika\" from the list\n",
    "\n",
    "      // This displays elements for the newer list\n",
    "      System.out.println(\"Updated Students List (Removals):\");\n",
    "      for(String str:obj)\n",
    "         System.out.println(str);\n",
    "\n",
    "      //Removes the element from the index of the list\n",
    "      obj.remove(1); //Removes the second element from the list\n",
    "\n",
    "      // Displaying elements of the final most/most newly updated list\n",
    "      System.out.println(\"Final Students List:\");\n",
    "      for(String str:obj)\n",
    "         System.out.println(str); \n",
    "   }\n",
    "   \n",
    "} \n",
    "JavaExample.main(null);"
   ]
  }
 ],
 "metadata": {
  "kernelspec": {
   "display_name": "Java",
   "language": "java",
   "name": "java"
  },
  "language_info": {
   "codemirror_mode": "java",
   "file_extension": ".jshell",
   "mimetype": "text/x-java-source",
   "name": "Java",
   "pygments_lexer": "java",
   "version": "17.0.4+8"
  },
  "orig_nbformat": 4
 },
 "nbformat": 4,
 "nbformat_minor": 2
}
