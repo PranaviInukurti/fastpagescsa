{
 "cells": [
  {
   "cell_type": "markdown",
   "metadata": {},
   "source": [
    "# Conditional Statements\n",
    "\n",
    "Java uses conditional statements to specify whether executed code is true or false under a specific condition. Usually, the conditional statements return a boolean expression (either true or false). \n",
    "* \"If\" is used to determine if a specified condition is true when the code is executed. \n",
    "* \"Else\" is used to determine if that same specified condition is false when the code is executed.\n",
    "* \"Else if\" is used to specify a new condition when the first specified condition returns false. "
   ]
  },
  {
   "cell_type": "markdown",
   "metadata": {},
   "source": [
    "### If Statement"
   ]
  },
  {
   "cell_type": "code",
   "execution_count": 1,
   "metadata": {
    "vscode": {
     "languageId": "java"
    }
   },
   "outputs": [
    {
     "name": "stdout",
     "output_type": "stream",
     "text": [
      "True, 20 is greater than 18\n",
      "True, variable a is greater than variable b\n"
     ]
    }
   ],
   "source": [
    "// will always print out true as the output since 20 will always be greater than 18\n",
    "if (20 > 18) { // condition in the parenthesis\n",
    "    // the code that is executed if the condition is proved true (the return)\n",
    "  System.out.println(\"True, 20 is greater than 18\");\n",
    "}\n",
    "// if statements can also be used to test and/or compare variables\n",
    "int a = 20;\n",
    "int b = 18;\n",
    "if (a > b) {\n",
    "  System.out.println(\"True, variable a is greater than variable b\");\n",
    "}"
   ]
  },
  {
   "cell_type": "markdown",
   "metadata": {},
   "source": [
    "### Else Statement"
   ]
  },
  {
   "cell_type": "code",
   "execution_count": 2,
   "metadata": {
    "vscode": {
     "languageId": "java"
    }
   },
   "outputs": [
    {
     "name": "stdout",
     "output_type": "stream",
     "text": [
      "Good bye.\n"
     ]
    }
   ],
   "source": [
    "// will always print out \"Good Bye\" since the time is 20 and 20 is always greater than 18, which means the condition is alwaysfalse\n",
    "int time = 20;\n",
    "if (time < 18) { // the condition is in the parenthesis\n",
    "  System.out.println(\"Good day.\"); // the return if the code executed is true under the condition\n",
    "} else {\n",
    "  System.out.println(\"Good bye.\"); // the return if the code executed is false under the condition mentioned\n",
    "}"
   ]
  },
  {
   "cell_type": "markdown",
   "metadata": {},
   "source": [
    "### Else If Statement"
   ]
  },
  {
   "cell_type": "code",
   "execution_count": 3,
   "metadata": {
    "vscode": {
     "languageId": "java"
    }
   },
   "outputs": [
    {
     "name": "stdout",
     "output_type": "stream",
     "text": [
      "You won the game.\n"
     ]
    }
   ],
   "source": [
    "// will always print out you won since 17 is greater than 10 and 15\n",
    "int score = 17;\n",
    "if (score < 10) { // in the parenthesis is the first condition\n",
    "  System.out.println(\"You lost the game.\"); // what return follows if the executed code is true\n",
    "} else if (score < 15) { // in the parenthesis is the second condition\n",
    "  System.out.println(\"You might win the game.\"); // what return follows if the executed code is false for the first condition but true for the second condition\n",
    "} else {\n",
    "  System.out.println(\"You won the game.\"); // what return follows if the executed code is false for both the first and second condition\n",
    "}"
   ]
  },
  {
   "cell_type": "markdown",
   "metadata": {},
   "source": [
    "# If-ElseIf Statements\n",
    "\n",
    "The if statement is the first condition in the Java program that starts the management of the return. If this first condition  in the if statement is true, the program will print out the statement coded inside it. If the condition is false, the execution moves on to the else condition and prints out the statement written inside this condition if it is true. If not, then the program repeats the process of moving on and checking the next condition until the code is executed. "
   ]
  },
  {
   "cell_type": "code",
   "execution_count": 4,
   "metadata": {
    "vscode": {
     "languageId": "java"
    }
   },
   "outputs": [
    {
     "name": "stdout",
     "output_type": "stream",
     "text": [
      "X is greater than 60, it's a pretty big number!\n"
     ]
    }
   ],
   "source": [
    "int x;\n",
    " \n",
    "        x=105;\n",
    " \n",
    "        if (x <= 10) { // condition 1 in the parenthesis\n",
    " \n",
    "           System.out.println(\"X is less than or equal to 10, it is a pretty small number!\"); // if the value of x is less than or equal to 10, the system will return this statement\n",
    " \n",
    "        }\n",
    " \n",
    "        else if (x <= 20) { // condition 2 in the parenthesis\n",
    " \n",
    "           System.out.println(\"X is less than or equal to 20!\"); // if the value for x fails to meet all of the above conditions, but is less than or equal to 20, the system will print out this statement\n",
    " \n",
    "        }\n",
    " \n",
    "        else if (x <= 30) { // condition 3 in the parenthesis\n",
    " \n",
    "            System.out.println(\"X is less than or equal to 30!\"); // if the value for x fails to meet all of the above conditions, but is less than or equal to 30, the system will print out this statement\n",
    " \n",
    "         }       \n",
    " \n",
    "        else if (x <= 40) { // condition 4 in the parenthesis\n",
    " \n",
    "            System.out.println(\"X is less than or equal to 40!\"); // if the value for x fails to meet all of the above conditions, but is less than or equal to 40, the system will print out this statement\n",
    " \n",
    "         }        \n",
    " \n",
    "        else if (x <= 50) { // condition 5 in the parenthesis\n",
    " \n",
    "            System.out.println(\"X is less than or equal to 50!\"); // if the value for x fails to meet all of the above conditions, but is less than or equal to 50, the system will print out this statement\n",
    " \n",
    "         }   \n",
    "         \n",
    "        else if (x <= 60) { // condition 6 in the parenthesis\n",
    "            System.out.println(\"X is less than or equal to 60!\"); // if the value for x fails to meet all of the above conditions, but is less than or equal to 60, the system will print out this statement\n",
    "        }\n",
    " \n",
    "        else { // if the value for x fails to meet all of the above conditions, it returns the statement below\n",
    " \n",
    "                System.out.println(\"X is greater than 60, it's a pretty big number!\");\n",
    " \n",
    "        }"
   ]
  },
  {
   "cell_type": "markdown",
   "metadata": {},
   "source": [
    "# Switch-Case Statements\n",
    "\n",
    "In switch-case statements, it is possible to write as many cases as you want, as long as they are all relevant to the problem. Break statements and default statements are both optional; but if you include the default statement in some place besides the end of the program, you must make sure that the break statement follows right after the default statement. Variables aren't allowed in these cases so the value for a case must be literal or constant. "
   ]
  },
  {
   "cell_type": "code",
   "execution_count": 5,
   "metadata": {
    "vscode": {
     "languageId": "java"
    }
   },
   "outputs": [
    {
     "name": "stdout",
     "output_type": "stream",
     "text": [
      "It's Friday today.\n"
     ]
    }
   ],
   "source": [
    "int day = 5;\n",
    "        String dayString;\n",
    "  \n",
    "        // This is the switch statement that includes what the data type is, in this case it is int. The value written above must be of the same data type to prevent any errors in the program\n",
    "        switch (day) {\n",
    "  \n",
    "        // Case\n",
    "        case 1: // this is case value 1\n",
    "            dayString = \"It's Monday today.\"; // this is the statement that prints out if the day value matches case #1 value\n",
    "            break; // this is the break statement (THIS IS OPTIONAL, but I included it)\n",
    "  \n",
    "        // Case\n",
    "        case 2: // this is case value 2\n",
    "            dayString = \"It's Tuesday today.\"; // this is the statement that prints out if the day value matches case #2 value\n",
    "            break;\n",
    "  \n",
    "            // Case\n",
    "        case 3: // this is case value 3\n",
    "            dayString = \"It's Wednesday today.\"; // this is the statement that prints out if the day value matches case #3 value\n",
    "            break;\n",
    "  \n",
    "            // Case\n",
    "        case 4: // this is case value 4\n",
    "            dayString = \"It's Thursday today.\"; // this is the statement that prints out if the day value matches case #4 value\n",
    "            break;\n",
    "  \n",
    "        // Case\n",
    "        case 5: // this is case value 5\n",
    "            dayString = \"It's Friday today.\"; // this is the statement that prints out if the day value matches case #5 value\n",
    "            break;\n",
    "  \n",
    "            // Case\n",
    "        case 6: // this is case value 6\n",
    "            dayString = \"It's Saturday today.\"; // this is the statement that prints out if the day value matches case #6 value\n",
    "            break;\n",
    "  \n",
    "            // Case\n",
    "        case 7: // this is case value 7\n",
    "            dayString = \"It's Sunday today.\"; // this is the statement that prints out if the day value matches case #7 value\n",
    "            break;\n",
    "\n",
    "// we can continue to add as many case statements as we want (I stopped since there are only 7 days of the week) but make sure the number of cases is relevant to your program\n",
    "\n",
    "        // This is the default case for when the case statements don't apply\n",
    "        default:\n",
    "            dayString = \"That's not a day bro.\"; // this is the statement that prints out if the day value doesn't match any of the case values\n",
    "        }\n",
    "        System.out.println(dayString);"
   ]
  },
  {
   "cell_type": "markdown",
   "metadata": {},
   "source": [
    "# De Morgan's Law\n",
    "\n",
    "This law came after the man named Augustus De Morgan who developed it in the 1800s. The law states how to determine what the code will execute when negation rules are applied. For example, if a and b are both boolean values, then:\n",
    "* !(a && b) is equivalent to !a || !b\n",
    "* !(a || b) is equivalent to !a && !b\n",
    "\n",
    "The following negation conditions will also apply under De Morgan's law:\n",
    "* < becomes >=\n",
    "* \">\" becomes <=\n",
    "* == becomes !=\n",
    "* <= becomes >\n",
    "* = becomes <\n",
    "* != becomes ==\n",
    "\n"
   ]
  },
  {
   "cell_type": "code",
   "execution_count": 6,
   "metadata": {
    "vscode": {
     "languageId": "java"
    }
   },
   "outputs": [
    {
     "name": "stdout",
     "output_type": "stream",
     "text": [
      "The state is either Texas or Hawaii\n",
      "The state is either Texas or Hawaii\n"
     ]
    }
   ],
   "source": [
    "String state = \"HI\";\n",
    "\n",
    "// !(a || b) is equivalent to !a && !b\n",
    "if (!(state.equals(\"TX\") || state.equals(\"HI\"))) {\n",
    "    System.out.println(\"The state is not Texas or Hawaii\");\n",
    "}\n",
    "else {\n",
    "    System.out.println(\"The state is either Texas or Hawaii\");\n",
    "}\n",
    "\n",
    "// !(a && b) is equivalent to !a || !b\n",
    "if (!(state.equals(\"TX\") && state.equals(\"HI\"))) {\n",
    "    System.out.println(\"The state is either Texas or Hawaii\");\n",
    "}\n",
    "else {\n",
    "    System.out.println(\"The state is not Texas or Hawaii\");\n",
    "}"
   ]
  }
 ],
 "metadata": {
  "kernelspec": {
   "display_name": "Java",
   "language": "java",
   "name": "java"
  },
  "language_info": {
   "codemirror_mode": "java",
   "file_extension": ".jshell",
   "mimetype": "text/x-java-source",
   "name": "Java",
   "pygments_lexer": "java",
   "version": "17.0.4+8"
  },
  "orig_nbformat": 4
 },
 "nbformat": 4,
 "nbformat_minor": 2
}
