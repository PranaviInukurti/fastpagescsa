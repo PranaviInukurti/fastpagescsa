{
 "cells": [
  {
   "cell_type": "markdown",
   "metadata": {},
   "source": [
    "# Fibonacci \n",
    "\n",
    "- toc: false \n",
    "- badges: true\n",
    "- comments: true\n",
    "- categories: [jupyter]"
   ]
  },
  {
   "cell_type": "markdown",
   "metadata": {},
   "source": [
    "### For Loop Fibonacci\n",
    "> In this display, we see how firstTerm = 0 and secondTerm = 1 initially as the first two digits in the output of the Fibonacci series. We use the for loop to print the firstTerm and secondTerm, add these two terms to compute nextTerm, and assign whatever value we got to nextTerm. \n"
   ]
  },
  {
   "cell_type": "code",
   "execution_count": 3,
   "metadata": {
    "vscode": {
     "languageId": "java"
    }
   },
   "outputs": [
    {
     "name": "stdout",
     "output_type": "stream",
     "text": [
      "Fibonacci Series till 10 terms:\n",
      "0, 1, 1, 2, 3, 5, 8, 13, 21, 34, "
     ]
    }
   ],
   "source": [
    "      int n = 10, firstTerm = 0, secondTerm = 1; //initializing \"firstTerm\" and \"secondTerm\" and displaying only the first 10 numbers of the sequence\n",
    "      System.out.println(\"Fibonacci Series till \" + n + \" terms:\"); \n",
    "  \n",
    "      for (int i = 1; i <= n; ++i) { \n",
    "        System.out.print(firstTerm + \", \"); \n",
    "  \n",
    "        // compute the next term\n",
    "        int nextTerm = firstTerm + secondTerm; //computes the \"nextTerm by adding first two terms\"\n",
    "        firstTerm = secondTerm; //makes the new \"firstTerm\" have the value of \"secondTerm\"\n",
    "        secondTerm = nextTerm; // assigns the new \"secondTerm\" and the previously computed \"nextTerm\"\n",
    "      }"
   ]
  },
  {
   "cell_type": "markdown",
   "metadata": {},
   "source": [
    "### While Loop Fibonacci\n",
    "> We can also create a fibonacci sequence with a while loop. The program is essentially the same as the previous program. Although both programs work well, using a for loop would be better since the number of iterations from 1 to n is known."
   ]
  },
  {
   "cell_type": "code",
   "execution_count": 35,
   "metadata": {
    "vscode": {
     "languageId": "java"
    }
   },
   "outputs": [
    {
     "name": "stdout",
     "output_type": "stream",
     "text": [
      "Fibonacci Series till 10 terms:\n",
      "0, 1, 1, 2, 3, 5, 8, 13, 21, 34, "
     ]
    }
   ],
   "source": [
    "      int i = 1, n = 10, firstTerm = 0, secondTerm = 1; //initializing \"firstTerm\" and \"secondTerm\" and displaying only the first 10 numbers of the sequence\n",
    "      System.out.println(\"Fibonacci Series till \" + n + \" terms:\");\n",
    "  \n",
    "      while (i <= n) {\n",
    "        System.out.print(firstTerm + \", \");\n",
    "  \n",
    "        int nextTerm = firstTerm + secondTerm; //computes the \"nextTerm by adding first two terms\"\n",
    "        firstTerm = secondTerm; //makes the new \"firstTerm\" have the value of \"secondTerm\"\n",
    "        secondTerm = nextTerm; // assigns the new \"secondTerm\" and the previously computed \"nextTerm\"\n",
    "  \n",
    "        i++;\n",
    "      }"
   ]
  },
  {
   "cell_type": "markdown",
   "metadata": {},
   "source": [
    "### Recursive Fibonacci\n",
    "> To prevent repeating lines of code, we can use recursion to make our code and life simpler. The function takes an input number and checks for 0, 1, 2, returning 0, 1, 1 to start the Fibonacci sequence. When input n is >=3, The function will call itself recursively and is done twice."
   ]
  },
  {
   "cell_type": "code",
   "execution_count": 38,
   "metadata": {
    "vscode": {
     "languageId": "java"
    }
   },
   "outputs": [
    {
     "name": "stdout",
     "output_type": "stream",
     "text": [
      "Fibonacci Series of 10 numbers: 0 1 1 2 3 5 8 13 21 34 "
     ]
    }
   ],
   "source": [
    "public static int fibonacciRecursion(int n){\n",
    "    if(n == 0){ // checking if input n = 0 and returning 0 if true\n",
    "        return 0;\n",
    "    }\n",
    "    if(n == 1 || n == 2){ // checking if input n = 1, 2 and returning 1 for both if true\n",
    "        return 1;\n",
    "    }\n",
    "    return fibonacciRecursion(n-2) + fibonacciRecursion(n-1);\n",
    "}\n",
    "\n",
    "int maxNumber = 10; // setting 10 as maximum number of terms displayed\n",
    "System.out.print(\"Fibonacci Series of \"+maxNumber+\" numbers: \");\n",
    "for(int i = 0; i < maxNumber; i++){\n",
    "    System.out.print(fibonacciRecursion(i) +\" \"); // adds one to maxNumber each time recursion happens\n",
    "}"
   ]
  }
 ],
 "metadata": {
  "kernelspec": {
   "display_name": "Java",
   "language": "java",
   "name": "java"
  },
  "language_info": {
   "codemirror_mode": "java",
   "file_extension": ".jshell",
   "mimetype": "text/x-java-source",
   "name": "Java",
   "pygments_lexer": "java",
   "version": "17.0.4+8"
  },
  "orig_nbformat": 4
 },
 "nbformat": 4,
 "nbformat_minor": 2
}
