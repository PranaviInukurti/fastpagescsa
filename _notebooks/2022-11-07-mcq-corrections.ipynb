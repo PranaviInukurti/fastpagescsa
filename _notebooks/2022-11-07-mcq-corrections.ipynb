{
 "cells": [
  {
   "cell_type": "markdown",
   "metadata": {},
   "source": [
    "# Practice MCQ Test \n",
    "> Includes test corrections for missed questions along with overall takeaways. \n",
    "\n",
    "- toc: false \n",
    "- badges: true\n",
    "- comments: true\n",
    "- categories: [jupyter]"
   ]
  },
  {
   "cell_type": "markdown",
   "metadata": {},
   "source": [
    "I received a score of **35/40** on this practice multiple choice question test. This practice test was a really exciting experience and I learned a lot of how much I have learned this trimester and what I need to improve on based off of my mistakes."
   ]
  },
  {
   "cell_type": "markdown",
   "metadata": {},
   "source": [
    "### Question 4\n",
    "\n",
    "Consider the following code segment."
   ]
  },
  {
   "cell_type": "code",
   "execution_count": null,
   "metadata": {},
   "outputs": [],
   "source": [
    "int x = 7;\n",
    "int y = 3;\n",
    "if ((x < 10) && (y < 0))  \n",
    "    System.out.println(\"Value is: \" + x * y);\n",
    "else\n",
    "    System.out.println(\"Value is: \" + x / y);"
   ]
  },
  {
   "cell_type": "markdown",
   "metadata": {},
   "source": [
    "What is printed as a result of executing the code segment?"
   ]
  },
  {
   "cell_type": "markdown",
   "metadata": {},
   "source": [
    "#### Answer\n",
    "\n",
    "The answer option that I chose was a value of 2.3333333. However, the correct answer is the value 2. My answer option would only be correct if either x or y were a data type: double instead of data type: int or if either value was typecast as a double in the expression. Since the floating division is not used and integer division is used in the question, 7/3 is rounded down from 2.3333333 to 2. "
   ]
  },
  {
   "cell_type": "markdown",
   "metadata": {},
   "source": [
    "### Question 5\n",
    "\n",
    "Consider the following method."
   ]
  },
  {
   "cell_type": "code",
   "execution_count": null,
   "metadata": {},
   "outputs": [],
   "source": [
    "public Arraylist<Integer> mystery(int n)\n",
    "{\n",
    "    Arraylist<Integer> seq = new Arraylist<Integer>();\n",
    "\n",
    "    for (int k = 1; k <= n; k++)\n",
    "        seq.add(new Integer(k * k + 3));\n",
    "\n",
    "    return seq;\n",
    "}"
   ]
  },
  {
   "cell_type": "markdown",
   "metadata": {},
   "source": [
    "Which of the following is printed as a result of executing the following statement?\n",
    "System.out.println(mystery ( 6 ) ) ;"
   ]
  },
  {
   "cell_type": "markdown",
   "metadata": {},
   "source": [
    "#### Answer\n",
    "\n",
    "The answer option that I chose was [3, 4, 7, 12, 19, 28, 39]. However, the correct answer is [4, 7, 12, 19, 28, 39]. I was wrong since this would only be the answer if k was initialized to 0. Since this event didn't occur in the code above, the first iteration would occur when k is 1, and so the starting value would be 4. "
   ]
  },
  {
   "cell_type": "markdown",
   "metadata": {},
   "source": [
    "### Question 19\n",
    "\n",
    "Assume that a and b have been defined and initialized as int values. The expression\n",
    "```\n",
    "! ( ! (a != b ) && (b > 7) )\n",
    "```\n",
    "is equivalent to which of the following?"
   ]
  },
  {
   "cell_type": "markdown",
   "metadata": {},
   "source": [
    "#### Answer\n",
    "\n",
    "The answer option I chose was (a != b ) || (b < 7). However, the correct answer is (a != b ) || (b <= 7). This was a silly mistake since the reasoning why I was wrong was because the opposite of > is <=. Therefore, the opposite of (b > 7) is (b <= 7)."
   ]
  },
  {
   "cell_type": "markdown",
   "metadata": {},
   "source": [
    "### Question 24\n",
    "\n",
    "Consider the following code segment."
   ]
  },
  {
   "cell_type": "code",
   "execution_count": null,
   "metadata": {},
   "outputs": [],
   "source": [
    "int [] oldArray = {1, 2, 3, 4, 5, 6, 7, 8, 9};\n",
    "int [][] newArray = new int[3][3];\n",
    "\n",
    "int row = 0;\n",
    "int col = 0;\n",
    "for (int value : oldArray)\n",
    "{\n",
    "    newArray[row][col] = value;\n",
    "    row++;\n",
    "    if ((row % 3) == 0)\n",
    "    {\n",
    "        col++;\n",
    "        row = 0;\n",
    "    }\n",
    "}\n",
    "\n",
    "System.out.println(newArray[0][2]);"
   ]
  },
  {
   "cell_type": "markdown",
   "metadata": {},
   "source": [
    "What is printed as a result of executing the code segment?"
   ]
  },
  {
   "cell_type": "markdown",
   "metadata": {},
   "source": [
    "#### Answers\n",
    "\n",
    "The answer option I chose is 5. However, the correct answer option is 7. My answer option is wrong since the  value 5 is at newArray[1][1]. My answer option was incorrect since the for loop terminates, and then the newArray contains values { {1, 4, 7}, {2, 5, 8}, {3, 6, 9} }. Therefore, the actual value of newArray[0][2] would be 7."
   ]
  },
  {
   "cell_type": "markdown",
   "metadata": {},
   "source": [
    "### Question 35\n",
    "\n",
    "Consider the following code segment."
   ]
  },
  {
   "cell_type": "code",
   "execution_count": null,
   "metadata": {},
   "outputs": [],
   "source": [
    "int num = 2574;\n",
    "int result = 0;\n",
    "\n",
    "while (num > 0)\n",
    "{\n",
    "    result = result * 10 + num % 10;\n",
    "    num /= 10;\n",
    "}\n",
    "\n",
    "System.out.println(result);"
   ]
  },
  {
   "cell_type": "markdown",
   "metadata": {},
   "source": [
    "What is printed as a result of executing the code segment?"
   ]
  },
  {
   "cell_type": "markdown",
   "metadata": {},
   "source": [
    "#### Answer\n",
    "\n",
    "The answer option that I chose was 2574 whereas the actual correct answer option is 4752. In this question, my answer option was num's original value. But, num is continuously divided by 10 until it is 0. This means that in the fourth iteration, the result is assigned 475 * 10 + 2 % 10 = 4750 + 2 = 4752 and num is assigned 0. Therefore, the loop will terminate and then 4752 will be the correct value of num."
   ]
  }
 ],
 "metadata": {
  "kernelspec": {
   "display_name": "Java",
   "language": "java",
   "name": "java"
  },
  "language_info": {
   "name": "java"
  },
  "orig_nbformat": 4
 },
 "nbformat": 4,
 "nbformat_minor": 2
}
