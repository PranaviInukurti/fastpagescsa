{
 "cells": [
  {
   "cell_type": "markdown",
   "metadata": {},
   "source": [
    "# Unit 7 Homework\n",
    "- toc: true \n",
    "- badges: true\n",
    "- comments: true\n",
    "- categories: [jupyter]"
   ]
  },
  {
   "cell_type": "markdown",
   "metadata": {},
   "source": [
    "### Hack 1 - Descending and Swap\n",
    "> Sort an ArrayList in descending order and swap the first and last elements."
   ]
  },
  {
   "cell_type": "code",
   "execution_count": 13,
   "metadata": {
    "vscode": {
     "languageId": "java"
    }
   },
   "outputs": [
    {
     "name": "stdout",
     "output_type": "stream",
     "text": [
      "------------------\n",
      "Song's Descending Order: \n",
      "Shake It Off\n",
      "Party In The USA\n",
      "One Dance\n",
      "In Da Club\n",
      "I Wanna Benz\n",
      "I Ain't Worried\n",
      "\n",
      "------------------\n",
      "Swap 1st & Last Element: \n",
      "I Ain't Worried\n",
      "Party In The USA\n",
      "One Dance\n",
      "In Da Club\n",
      "I Wanna Benz\n",
      "Shake It Off\n"
     ]
    }
   ],
   "source": [
    "import java.util.ArrayList;\n",
    "import java.util.Collections;\n",
    "\n",
    "ArrayList<String> songs = new ArrayList<>();\n",
    "songs.add(\"Shake It Off\");\n",
    "songs.add(\"In Da Club\");\n",
    "songs.add(\"Party In The USA\");\n",
    "songs.add(\"I Ain't Worried\");\n",
    "songs.add(\"One Dance\");\n",
    "songs.add(\"I Wanna Benz\");\n",
    "\n",
    "public void print(ArrayList<String> songs){\n",
    "    for (String str : songs){\n",
    "        System.out.println(str);\n",
    "    }\n",
    "}\n",
    "\n",
    "// shows descending order\n",
    "System.out.println(\"------------------\");\n",
    "Collections.sort(songs, Collections.reverseOrder());\n",
    "System.out.println(\"Song's Descending Order: \");\n",
    "print(songs);\n",
    "\n",
    "System.out.println();\n",
    "System.out.println(\"------------------\");\n",
    "// swaps 1st and 6th list items\n",
    "System.out.println(\"Swap 1st & Last Element: \");\n",
    "String temp = songs.get(0);\n",
    "songs.remove(0);\n",
    "songs.add(0,songs.get(songs.size()-1));\n",
    "songs.remove(songs.size()-1);\n",
    "songs.add(songs.size(), temp);\n",
    "\n",
    "print(songs);"
   ]
  },
  {
   "cell_type": "markdown",
   "metadata": {},
   "source": [
    "### Hack 3 - Ascending, Descending, Neither\n",
    "> Return \"ascending\" if the list is sorted in ascending order, return \"descending\" if it is descending, and return \"neither\" if neither."
   ]
  },
  {
   "cell_type": "code",
   "execution_count": 47,
   "metadata": {
    "vscode": {
     "languageId": "java"
    }
   },
   "outputs": [
    {
     "name": "stdout",
     "output_type": "stream",
     "text": [
      "[1, 2, 3, 4, 5, 6]\n",
      "Is List Ascending: true\n",
      "[6, 5, 4, 3, 2, 1]\n",
      "Is List Descending: true\n"
     ]
    }
   ],
   "source": [
    "\n",
    "import java.util.ArrayList;\n",
    "\n",
    "public class ArrayChecker {\n",
    "    // Here is the code to check if array list is sorted in Ascending order or not\n",
    "    boolean checkSorting(ArrayList< String > arraylist){\n",
    "        boolean isSorted=true;\n",
    "        for(int i=1;i < arraylist.size();i++){\n",
    "            if(arraylist.get(i-1).compareTo(arraylist.get(i)) > 0){\n",
    "                isSorted= false;\n",
    "                break;\n",
    "            }\n",
    "        }\n",
    "        return isSorted;\n",
    "    }\n",
    "    public static void main(String[] args) {\n",
    "        ArrayList < String > al=new ArrayList < String >();\n",
    "        al.add(\"1, 2, 3, 4, 5, 6\");\n",
    "        System.out.println(al);\n",
    "        ArrayChecker alDemo=new ArrayChecker();\n",
    "        System.out.println(\"Is List Ascending: \"+alDemo.checkSorting(al));\n",
    "        al.remove(\"1, 2, 3, 4, 5, 6\");\n",
    "        al.add(\"6, 5, 4, 3, 2, 1\");\n",
    "        System.out.println(al);\n",
    "        ArrayChecker alDemo1=new ArrayChecker();\n",
    "        System.out.println(\"Is List Descending: \"+alDemo1.checkSorting(al));\n",
    "        al.remove(\"6, 5, 4, 3, 2, 1\");\n",
    "    }\n",
    "}\n",
    "ArrayChecker.main(null);"
   ]
  }
 ],
 "metadata": {
  "kernelspec": {
   "display_name": "Java",
   "language": "java",
   "name": "java"
  },
  "language_info": {
   "codemirror_mode": "java",
   "file_extension": ".jshell",
   "mimetype": "text/x-java-source",
   "name": "Java",
   "pygments_lexer": "java",
   "version": "17.0.4+8"
  },
  "orig_nbformat": 4
 },
 "nbformat": 4,
 "nbformat_minor": 2
}
