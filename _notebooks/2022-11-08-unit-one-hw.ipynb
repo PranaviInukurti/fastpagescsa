{
 "cells": [
  {
   "cell_type": "markdown",
   "metadata": {},
   "source": [
    "# Unit 1 Team Homework\n",
    "\n",
    "- toc: false \n",
    "- badges: true\n",
    "- comments: true\n",
    "- categories: [jupyter]"
   ]
  },
  {
   "cell_type": "code",
   "execution_count": 1,
   "metadata": {},
   "outputs": [],
   "source": [
    "import java.util.Scanner;\n",
    "\n",
    "public class PrimitivesCalculator {\n",
    "    public static void main(String[] args) {  \n",
    "        Scanner input;\n",
    "        boolean separateCategory;\n",
    "        float currentGrade;\n",
    "        float desiredGrade; \n",
    "        float percentOfFinal; \n",
    "\n",
    "        input = new Scanner(System.in);\n",
    "        System.out.print(\"Do you want separate categories? \");\n",
    "        separateCategory = input.nextBoolean();\n",
    "        System.out.println(separateCategory);\n",
    "\n",
    "        if(separateCategory == true) {\n",
    "            System.out.print(\"Enter current grade? \");\n",
    "            currentGrade = input.nextInt();\n",
    "            System.out.println(currentGrade);\n",
    "    \n",
    "            System.out.print(\"Enter desired grade? \");\n",
    "            desiredGrade = input.nextInt();\n",
    "            System.out.println(desiredGrade);\n",
    "\n",
    "            System.out.print(\"Enter percent of grade that is final? \");\n",
    "            percentOfFinal = input.nextFloat();\n",
    "            System.out.println(percentOfFinal);\n",
    "    \n",
    "            input.close();\n",
    "\n",
    "            float gradeNeeded = (desiredGrade - currentGrade * (1-percentOfFinal))/percentOfFinal;\n",
    "            System.out.println(gradeNeeded);\n",
    "        }\n",
    "    }        \n",
    "\n",
    "}"
   ]
  }
 ],
 "metadata": {
  "kernelspec": {
   "display_name": "Java",
   "language": "java",
   "name": "java"
  },
  "language_info": {
   "codemirror_mode": "java",
   "file_extension": ".jshell",
   "mimetype": "text/x-java-source",
   "name": "java",
   "pygments_lexer": "java",
   "version": "17.0.4+8"
  },
  "orig_nbformat": 4,
  "vscode": {
   "interpreter": {
    "hash": "b0fa6594d8f4cbf19f97940f81e996739fb7646882a419484c72d19e05852a7e"
   }
  }
 },
 "nbformat": 4,
 "nbformat_minor": 2
}
