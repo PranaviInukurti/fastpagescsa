{
 "cells": [
  {
   "cell_type": "markdown",
   "metadata": {},
   "source": [
    "# Unit 8 Homework\n",
    "- toc: true \n",
    "- badges: true\n",
    "- comments: true\n",
    "- categories: [jupyter]"
   ]
  },
  {
   "cell_type": "markdown",
   "metadata": {},
   "source": [
    "### Homework Hacks\n",
    "\n",
    "\n",
    "- Create a method to reverse the 2D array and print out the values\n",
    "- Create a method that asks for the input of a position and it returns the corresponding value\n",
    "- Create a method that multiplies each value in a row and then adds all the products together\n",
    "- Create a new object to test out each method in the main function"
   ]
  },
  {
   "cell_type": "markdown",
   "metadata": {},
   "source": [
    "##### Class and Initialize\n",
    "> Create a class for 2D array learning. Create a method too initialize a 2D array with arbitrary values."
   ]
  },
  {
   "cell_type": "code",
   "execution_count": 2,
   "metadata": {
    "vscode": {
     "languageId": "java"
    }
   },
   "outputs": [
    {
     "name": "stdout",
     "output_type": "stream",
     "text": [
      "arr[0][0] = 1\n",
      "arr[0][1] = 2\n",
      "arr[1][0] = 3\n",
      "arr[1][1] = 4\n"
     ]
    }
   ],
   "source": [
    "class NumberArray {\n",
    "\tpublic static void main(String[] args)\n",
    "\t{\n",
    "\n",
    "\t\tint[][] arr = { { 1, 2 }, { 3, 4 } };\n",
    "\n",
    "\t\tfor (int i = 0; i < 2; i++)\n",
    "\t\t\tfor (int j = 0; j < 2; j++)\n",
    "\t\t\t\tSystem.out.println(\"arr[\" + i + \"][\" + j + \"] = \"\n",
    "\t\t\t\t\t\t\t\t+ arr[i][j]);\n",
    "\t}\n",
    "}\n",
    "NumberArray.main(null);"
   ]
  }
 ],
 "metadata": {
  "kernelspec": {
   "display_name": "Java",
   "language": "java",
   "name": "java"
  },
  "language_info": {
   "codemirror_mode": "java",
   "file_extension": ".jshell",
   "mimetype": "text/x-java-source",
   "name": "Java",
   "pygments_lexer": "java",
   "version": "17.0.4+8"
  },
  "orig_nbformat": 4
 },
 "nbformat": 4,
 "nbformat_minor": 2
}
