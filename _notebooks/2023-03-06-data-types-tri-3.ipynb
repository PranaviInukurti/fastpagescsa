{
 "cells": [
  {
   "attachments": {},
   "cell_type": "markdown",
   "metadata": {},
   "source": [
    "# Data Types Notes and Hacks\n",
    "> Notebook from Trimester 3 (3/6/2023). This is a deeper review on data types, wrapper classes and classes specific in preparation for using Data Structures.\n",
    "\n",
    "- toc: false \n",
    "- badges: true\n",
    "- comments: true\n",
    "- categories: [jupyter]"
   ]
  },
  {
   "attachments": {},
   "cell_type": "markdown",
   "metadata": {},
   "source": [
    "### Early Seed Award\n",
    "Write a sample binary addition 1 + 1 = 10"
   ]
  },
  {
   "cell_type": "code",
   "execution_count": 25,
   "metadata": {
    "vscode": {
     "languageId": "java"
    }
   },
   "outputs": [
    {
     "name": "stdout",
     "output_type": "stream",
     "text": [
      "Enter 1st binary no. : \n",
      "Enter 2nd binary no. : \n",
      "Additon is : 10\n"
     ]
    }
   ],
   "source": [
    "import java.util.Scanner;\n",
    "    public class BinaryAdd{\n",
    "        public static void main(String[] args) \n",
    "    {\n",
    "        String b1,b2;\n",
    "        Scanner sc= new Scanner(System.in);\n",
    "        System.out.println(\"Enter 1st binary no. : \") ;\n",
    "        b1=sc.next();\n",
    "        System.out.println(\"Enter 2nd binary no. : \") ;\n",
    "        b2=sc.next();\n",
    "        int num1=Integer.parseInt(b1,2);\n",
    "        int num2=Integer.parseInt(b2,2);\n",
    "        int sum=num1+num2;\n",
    "        System.out.println(\"Additon is : \"+Integer.toBinaryString(sum));\n",
    "    }\n",
    "    }\n",
    "    BinaryAdd.main(null);"
   ]
  }
 ],
 "metadata": {
  "kernelspec": {
   "display_name": "Java",
   "language": "java",
   "name": "java"
  },
  "language_info": {
   "codemirror_mode": "java",
   "file_extension": ".jshell",
   "mimetype": "text/x-java-source",
   "name": "Java",
   "pygments_lexer": "java",
   "version": "17.0.4+8"
  },
  "orig_nbformat": 4
 },
 "nbformat": 4,
 "nbformat_minor": 2
}
