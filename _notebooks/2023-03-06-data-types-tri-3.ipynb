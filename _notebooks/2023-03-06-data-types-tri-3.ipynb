{
 "cells": [
  {
   "attachments": {},
   "cell_type": "markdown",
   "metadata": {},
   "source": [
    "# Data Types Notes and Hacks\n",
    "> Notebook from Trimester 3 (3/6/2023). This is a deeper review on data types, wrapper classes and classes specific in preparation for using Data Structures.\n",
    "\n",
    "- toc: false \n",
    "- badges: true\n",
    "- comments: true\n",
    "- categories: [jupyter]"
   ]
  },
  {
   "attachments": {},
   "cell_type": "markdown",
   "metadata": {},
   "source": [
    "### Early Seed Award\n",
    "Write a sample binary addition 1 + 1 = 10"
   ]
  },
  {
   "cell_type": "code",
   "execution_count": 25,
   "metadata": {},
   "outputs": [
    {
     "name": "stdout",
     "output_type": "stream",
     "text": [
      "Enter 1st binary no. : \n",
      "Enter 2nd binary no. : \n",
      "Additon is : 10\n"
     ]
    }
   ],
   "source": [
    "import java.util.Scanner;\n",
    "    public class BinaryAdd{\n",
    "        public static void main(String[] args) \n",
    "    {\n",
    "        String b1,b2;\n",
    "        Scanner sc= new Scanner(System.in);\n",
    "        System.out.println(\"Enter 1st binary no. : \") ;\n",
    "        b1=sc.next();\n",
    "        System.out.println(\"Enter 2nd binary no. : \") ;\n",
    "        b2=sc.next();\n",
    "        int num1=Integer.parseInt(b1,2);\n",
    "        int num2=Integer.parseInt(b2,2);\n",
    "        int sum=num1+num2;\n",
    "        System.out.println(\"Additon is : \"+Integer.toBinaryString(sum));\n",
    "    }\n",
    "    }\n",
    "    BinaryAdd.main(null);"
   ]
  },
  {
   "attachments": {},
   "cell_type": "markdown",
   "metadata": {},
   "source": [
    "### Tech Talk Notes\n",
    "Notes from Tuesday (3/7) Tech Talk on Data Types."
   ]
  },
  {
   "attachments": {},
   "cell_type": "markdown",
   "metadata": {},
   "source": [
    "#### Primitive vs Reference Data Types\n",
    "\n",
    "Two data types in java\n",
    "- primitive (int, long, boolean, double, char, byte, short, float)\n",
    "- reference (object, arrays)\n",
    "\n",
    "Primitive are stored directly in memory (local) whereas reference are stored as a reference to the memory location (local reference). \n",
    "\n",
    "#### Wrapper Classes\n",
    "\n",
    "Class that wraps the primitive type. We can use primitive types in collections (i.g. arraylists). Helps to convert int.s to objects and objects to int.s. Doesn't behave like a class though. \n",
    "\n",
    "##### Autoboxing\n",
    "- Putting a box around int so it can be used in collections\n",
    "- similar to syntax for Int"
   ]
  },
  {
   "cell_type": "code",
   "execution_count": null,
   "metadata": {},
   "outputs": [],
   "source": [
    "// Both of these create new objects\n",
    "Integer n = 5; // Auto-boxing, Integer n = new Integer(5);\n",
    "n += 5;  // Auto-boxing, Integer n = new Integer(n + 5); "
   ]
  },
  {
   "attachments": {},
   "cell_type": "markdown",
   "metadata": {},
   "source": [
    "String isn't a primitive (only 1 value is a primitive) but it is a class (it is a group of values together).\n",
    "\n",
    "Complex Data Structure\n",
    "- objects and arrays\n",
    "    - can include user (metadata, etc.)\n",
    "- wrapper class retains teh things of a regular class\n",
    "    - passes by value\n",
    "- class AtomicInteger passes by reference\n",
    "    - hash code is on every object (built in Java)\n",
    "        - unique signature (identification for the object)\n",
    "        - point to memory location sometimes\n",
    "- swap IntbyReference\n",
    "    - made a class, added private attribute/property with a primitive, try to use it by reference\n",
    "    - made a method to swap from low to high order\n",
    "    - had some values \n",
    "        - method does a swapping routine (uses a temp location to easily swap using a triangle swapping method)"
   ]
  },
  {
   "attachments": {},
   "cell_type": "markdown",
   "metadata": {},
   "source": [
    "### Hacks\n",
    "\n",
    "Start with some small code excercises\n",
    "- Write a Jupyter notebook code example on the following primitive types with a code example (4 to 5 lines), preference would be using array and methods like substring and random as applicable: int, double, boolean, char.\n",
    "- Now convert each of the examples to corresponding Wrapper classes, using arrays.\n",
    "- Expression of these in Class or PBL forms is an option. But the review must be easy for me to see work.\n",
    "\n",
    "Explore Teacher Code: [methodDataTypes](https://github.com/nighthawkcoders/spring_portfolio/tree/master/src/main/java/com/nighthawk/hacks/methodsDataTypes). I would like a Jupyter Notebook that goes over key concepts in Teacher code and uses background from ChatGPT and from AP Classroom.\n",
    "- Answer what are Methods and Control Structures\n",
    "- Explore AP FRQ that teaches us about Methods and Control Structures FRQ\n",
    "- Look at Diverse Arrays, Matrix in Teacher code and see if you think this is Methods and Control structures.\n",
    "- Look at Diverse Arrays,Matrix in Teacher code an see if you thing this fits Data Types.\n",
    "- Review DoNothingByValue, what is key knowledge here?\n",
    "- Review IntByReference, what is key knowledge here?\n",
    "- Review Menu code. Try, Catch, Runnable are used to control program execution. See if there is a way to get this to work in Jupyter Notebooks.\n",
    "- Define \"Method and Control Structures\". To the Teacher, the Menu Code has the most work of methodDataTypes files that is related to the \"Methods and Control Structures\" topic. Such exploration would begin by asking \"describe Java Methods and Control structures\". Are instances of MenuRow and Runnable data types, control structures? Does Driver have control structures, enumerate them.\n",
    "\n",
    "Explore AP Classroom. Look at 1 unique FRQ per team member on AP Classroom that goes over Methods and Control Structures. Provide me a Jupyter Notebook, Video, and/or Code that cover key concepts. Make this better than AP Classroom, specifically trying to get these reviews to cover key parts in under Ten minutes. This option could use your PBL project and concepts if they were tailored to Teaching.\n",
    "- Explore Testing requirements in AP Classroom Video\n",
    "- Explore AP FRQ that teaches us about Methods and Control Structures FRQ, 18:10\n",
    "- Make sure that code runs completely, complete any portion of FRQ that is undone. Complete FRQs in a Jupyter notebook with markdown description and comments is a requirement.\n",
    "- Integrate Data Types into the discussion as this is import concept when studying early materials.\n",
    "- Integrate Definition of Methods and Control Structures in comments and definitions."
   ]
  }
 ],
 "metadata": {
  "kernelspec": {
   "display_name": "Java",
   "language": "java",
   "name": "java"
  },
  "language_info": {
   "codemirror_mode": "java",
   "file_extension": ".jshell",
   "mimetype": "text/x-java-source",
   "name": "java",
   "pygments_lexer": "java",
   "version": "17.0.4+8"
  },
  "orig_nbformat": 4
 },
 "nbformat": 4,
 "nbformat_minor": 2
}
