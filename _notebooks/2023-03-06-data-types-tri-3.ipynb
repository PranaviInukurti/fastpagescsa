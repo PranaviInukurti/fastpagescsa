{
 "cells": [
  {
   "attachments": {},
   "cell_type": "markdown",
   "metadata": {},
   "source": [
    "# Data Types Notes and Hacks\n",
    "> Notebook from Trimester 3 (3/6/2023). This is a deeper review on data types, wrapper classes and classes specific in preparation for using Data Structures.\n",
    "\n",
    "- toc: false \n",
    "- badges: true\n",
    "- comments: true\n",
    "- categories: [jupyter]"
   ]
  },
  {
   "attachments": {},
   "cell_type": "markdown",
   "metadata": {},
   "source": [
    "### Early Seed Award\n",
    "Write a sample binary addition 1 + 1 = 10"
   ]
  },
  {
   "cell_type": "code",
   "execution_count": 25,
   "metadata": {
    "vscode": {
     "languageId": "java"
    }
   },
   "outputs": [
    {
     "name": "stdout",
     "output_type": "stream",
     "text": [
      "Enter 1st binary no. : \n",
      "Enter 2nd binary no. : \n",
      "Additon is : 10\n"
     ]
    }
   ],
   "source": [
    "import java.util.Scanner;\n",
    "    public class BinaryAdd{\n",
    "        public static void main(String[] args) \n",
    "    {\n",
    "        String b1,b2;\n",
    "        Scanner sc= new Scanner(System.in);\n",
    "        System.out.println(\"Enter 1st binary no. : \") ;\n",
    "        b1=sc.next();\n",
    "        System.out.println(\"Enter 2nd binary no. : \") ;\n",
    "        b2=sc.next();\n",
    "        int num1=Integer.parseInt(b1,2);\n",
    "        int num2=Integer.parseInt(b2,2);\n",
    "        int sum=num1+num2;\n",
    "        System.out.println(\"Additon is : \"+Integer.toBinaryString(sum));\n",
    "    }\n",
    "    }\n",
    "    BinaryAdd.main(null);"
   ]
  },
  {
   "attachments": {},
   "cell_type": "markdown",
   "metadata": {},
   "source": [
    "### Tech Talk Notes\n",
    "Notes from Tuesday (3/7) Tech Talk on Data Types."
   ]
  },
  {
   "attachments": {},
   "cell_type": "markdown",
   "metadata": {},
   "source": [
    "#### Primitive vs Reference Data Types\n",
    "\n",
    "Two data types in java\n",
    "- primitive (int, long, boolean, double, char, byte, short, float)\n",
    "- reference (object, arrays)\n",
    "\n",
    "Primitive are stored directly in memory (local) whereas reference are stored as a reference to the memory location (local reference). \n",
    "\n",
    "#### Wrapper Classes\n",
    "\n",
    "Class that wraps the primitive type. We can use primitive types in collections (i.g. arraylists). Helps to convert int.s to objects and objects to int.s. Doesn't behave like a class though. \n",
    "\n",
    "##### Autoboxing\n",
    "- Putting a box around int so it can be used in collections\n",
    "- similar to syntax for Int"
   ]
  },
  {
   "cell_type": "code",
   "execution_count": null,
   "metadata": {
    "vscode": {
     "languageId": "java"
    }
   },
   "outputs": [],
   "source": [
    "// Both of these create new objects\n",
    "Integer n = 5; // Auto-boxing, Integer n = new Integer(5);\n",
    "n += 5;  // Auto-boxing, Integer n = new Integer(n + 5); "
   ]
  },
  {
   "attachments": {},
   "cell_type": "markdown",
   "metadata": {},
   "source": [
    "String isn't a primitive (only 1 value is a primitive) but it is a class (it is a group of values together).\n",
    "\n",
    "Complex Data Structure\n",
    "- objects and arrays\n",
    "    - can include user (metadata, etc.)\n",
    "- wrapper class retains teh things of a regular class\n",
    "    - passes by value\n",
    "- class AtomicInteger passes by reference\n",
    "    - hash code is on every object (built in Java)\n",
    "        - unique signature (identification for the object)\n",
    "        - point to memory location sometimes\n",
    "- swap IntbyReference\n",
    "    - made a class, added private attribute/property with a primitive, try to use it by reference\n",
    "    - made a method to swap from low to high order\n",
    "    - had some values \n",
    "        - method does a swapping routine (uses a temp location to easily swap using a triangle swapping method)\n",
    "        - "
   ]
  }
 ],
 "metadata": {
  "kernelspec": {
   "display_name": "Java",
   "language": "java",
   "name": "java"
  },
  "language_info": {
   "codemirror_mode": "java",
   "file_extension": ".jshell",
   "mimetype": "text/x-java-source",
   "name": "Java",
   "pygments_lexer": "java",
   "version": "17.0.4+8"
  },
  "orig_nbformat": 4
 },
 "nbformat": 4,
 "nbformat_minor": 2
}
