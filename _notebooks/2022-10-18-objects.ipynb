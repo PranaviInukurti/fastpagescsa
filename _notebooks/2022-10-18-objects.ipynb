{
 "cells": [
  {
   "cell_type": "markdown",
   "metadata": {},
   "source": [
    "# UNIT 3, 4, 5 NOTES\n",
    "\n",
    "- toc: false \n",
    "- badges: true\n",
    "- comments: true\n",
    "- categories: [jupyter]"
   ]
  },
  {
   "cell_type": "markdown",
   "metadata": {},
   "source": [
    "### Boolean Expressions\n",
    "\n",
    "- represent logic and tell whether something is true or false\n",
    "- operators used for boolean\n",
    "- logical operators\n",
    "    - && means and\n",
    "    - || means or\n",
    "    - ! means not\n",
    "- De Morgan's Law help simplify boolean expressions\n",
    "    - two laws to it\n",
    "    - truth tables are a good war to visualize boolean expressions\n",
    "- to compare objects, use the == for aliases for the same objects or to see if it is null or .equals() to see if the attribute is the same for two objects"
   ]
  },
  {
   "cell_type": "markdown",
   "metadata": {},
   "source": [
    "### Iteration\n",
    "\n",
    "- simplifies code by allowing it to repeat itself\n",
    "- while loops have two portions: the boolean expression and the brackets that have some code in them\n",
    "    - the boolean expression is checked before the loop starts\n",
    "        - every time the loop ends and is about to start anew\n",
    "    - changes conditions again and again until returns false and ends the while loop\n",
    "    - iterates over numerous elements\n",
    "- for loops has three portions: initialization, test condition, and change\n",
    "```\n",
    "for (int x = 1; x <= 5; x++) {\n",
    "    System.out.println(x);\n",
    "}\n",
    "```\n",
    "- when the loop condition is false, execution will continue at the next statement after the body of the loop.\n",
    "- strings can also be manipulated through the use of iteration\n",
    "```\n",
    "String name = \"CodeCodeCode\";\n",
    "\n",
    "for (int i = 0; i < name.length(); i+=2) {\n",
    "    System.out.println(name.substring(i,i+2));\n",
    "}\n",
    "```\n",
    "- nested iteration is where there is a loop within a loop\n",
    "    - similar to nested conditionals\n",
    "```\n",
    "for (int row = 0; row < 5; row ++) {\n",
    "    for (int column = 0; column < 4; column++) {\n",
    "        System.out.print('*');\n",
    "    }\n",
    "    System.out.println();\n",
    "}\n",
    "```\n",
    "- there are also nested while loops\n",
    "    - aren't very practical though \n",
    "- for each loops are similar to for loops \n",
    "    - three portions to it\n",
    "        - array, item, dataType\n",
    "```\n",
    "public class ForEachLoops {\n",
    "\n",
    "    public static void main(String[] args) {\n",
    "\n",
    "            // create an array\n",
    "        int[] data = {2, 10, 5, 12};\n",
    "    \n",
    "            // for each loop \n",
    "        for (int number: data) {\n",
    "        System.out.println(number);\n",
    "\n",
    "    }\n",
    "}\n",
    "}\n",
    "```\n",
    "- known as the enhanced for loops\n"
   ]
  },
  {
   "cell_type": "markdown",
   "metadata": {},
   "source": [
    "### Writing Classes\n",
    "\n",
    "- class is a blueprint to create objects\n",
    "- object is the instances of a class\n",
    "- public access means anyone can access the class\n",
    "- private means that there is restricted access to the class\n",
    "- constructors purpose is to initialize instance variables when object's called\n",
    "    - set an initial object state and initial instance variables\n",
    "    - default constructors has no parameters\n",
    "- three steps to creating and calling a method\n",
    "    - declare object of the class in the main method\n",
    "    - call the method (whatever method you want)\n",
    "    - write the method's header and body code \n",
    "- parameters used when creating a method\n",
    "    - when method is called, pass parameters that are then saved as parameter variables\n",
    "- "
   ]
  }
 ],
 "metadata": {
  "kernelspec": {
   "display_name": "Java",
   "language": "java",
   "name": "java"
  },
  "language_info": {
   "name": "java"
  },
  "orig_nbformat": 4
 },
 "nbformat": 4,
 "nbformat_minor": 2
}
