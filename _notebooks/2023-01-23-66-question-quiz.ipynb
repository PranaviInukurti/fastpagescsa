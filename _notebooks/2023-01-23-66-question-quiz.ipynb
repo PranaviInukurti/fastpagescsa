{
 "cells": [
  {
   "cell_type": "markdown",
   "metadata": {},
   "source": [
    "# 66 Question Practice MCQ Test \n",
    "> Includes test corrections for missed questions along with overall takeaways. \n",
    "\n",
    "- toc: false \n",
    "- badges: true\n",
    "- comments: true\n",
    "- categories: [jupyter]"
   ]
  },
  {
   "cell_type": "markdown",
   "metadata": {},
   "source": [
    "I received a score of **55/66** on this practice multiple choice question test. This practice test was a really exciting experience and I learned a lot of how much I have learned this trimester and what I need to improve on based off of my mistakes."
   ]
  },
  {
   "cell_type": "markdown",
   "metadata": {},
   "source": [
    "### Question 1\n",
    "\n",
    "Consider the following method."
   ]
  },
  {
   "cell_type": "code",
   "execution_count": null,
   "metadata": {},
   "outputs": [],
   "source": [
    "public static void addOneToEverything(int[] numbers)\n",
    "{\n",
    "for (int j = 0; j < numbers.length; j++)\n",
    "{\n",
    "numbers[j]++;\n",
    "}\n",
    "}"
   ]
  },
  {
   "cell_type": "markdown",
   "metadata": {},
   "source": [
    "Which of the following code segments, if any, can be used to replace the body of the method so that numbers will contain the same values?\n",
    "\n",
    "#### Answer\n",
    "The answer option I chose was I only. This is wrong since the given method increases each element of the array numbers by 1. Code segment I does not work as intended. It assigns num a copy of each element of numbers. When num is incremented, it does not change the corresponding value stored in numbers. Code segment II does not compile, as the variable j has not been declared. Code segment III does not work as intended, as it attempts to use num as an index rather than as a copy of a value from the array. Therefore, the correct answer is that none of the code segments will return an equivalent result."
   ]
  },
  {
   "cell_type": "markdown",
   "metadata": {},
   "source": [
    "### Question 30\n",
    "\n",
    "In the following code segment, assume that the ArrayList numList has been properly declared and initialized to contain the Integer values [1, 2, 2, 3]. The code segment is intended to insert the Integer value val in numList so that numList will remain in ascending order. The code segment does not work as intended in all cases."
   ]
  },
  {
   "cell_type": "code",
   "execution_count": null,
   "metadata": {},
   "outputs": [],
   "source": [
    "int index = 0;\n",
    "while (val > numList.get(index))\n",
    "{\n",
    "index++;\n",
    "}\n",
    "numList.add(index, val);"
   ]
  },
  {
   "cell_type": "markdown",
   "metadata": {},
   "source": [
    "For which of the following values of val will the code segment not work as intended?\n",
    "\n",
    "#### Answer \n",
    "The answer option I chose was 3. This code segment correctly inserts 3 in numList to produce [1, 2, 2, 3, 3]. 4 would be the correct answer since val is greater than every element in numList, index will continue to increase until it is 4. Once index is 4, an IndexOutOfBoundsException will occur because there is no element at index 4."
   ]
  },
  {
   "cell_type": "markdown",
   "metadata": {},
   "source": [
    "### Question 32\n",
    "\n",
    "Consider the following instance variable nums and method findLongest with line numbers added for reference. Method findLongest is intended to find the longest consecutive block of the value target occurring in the array nums; however, findLongest does not work as intended.\n",
    "\n",
    "For example, if the array nums contains the values [7, 10, 10, 15, 15, 15, 15, 10,10, 10, 15, 10, 10], the call findLongest (10) should return 3, the length of the longest consecutive block of 10s.\n",
    "\n",
    "![question32](../images/question32.png)\n",
    "\n",
    "Which of the following changes should be made so that method findLongest will work as intended?\n",
    "\n",
    "#### Answer\n",
    "I chose the answer: Insert the statement lenCount = 0 between lines 11 and 12. This was actually a simple mistake of choosing the wrong answer option on accident. The correct answer would be to Insert the statement lenCount = 0 between lines 12 and 13."
   ]
  },
  {
   "cell_type": "markdown",
   "metadata": {},
   "source": [
    "### Question 36\n",
    "\n",
    "Consider the following declarations."
   ]
  },
  {
   "cell_type": "code",
   "execution_count": null,
   "metadata": {},
   "outputs": [],
   "source": [
    "Actor a = new Actor();\n",
    "Bug b = new Bug();\n",
    "Rock r = new Rock();\n",
    "Critter c = new Critter();"
   ]
  },
  {
   "cell_type": "markdown",
   "metadata": {},
   "source": [
    "Consider the following lines of code."
   ]
  },
  {
   "cell_type": "code",
   "execution_count": null,
   "metadata": {},
   "outputs": [],
   "source": [
    "int dir1 = c.getDirection();\n",
    "int dir2 = a.getDirection();\n",
    "int dir3 = b.getDirection();\n",
    "ArrayList<Location> rLoc = r.getMoveLocations();\n",
    "ArrayList<Location> cLoc = c.getMoveLocations();"
   ]
  },
  {
   "cell_type": "markdown",
   "metadata": {},
   "source": [
    "Which of the lines of code above will cause a compile time error?\n",
    "\n",
    "#### Answer\n",
    "I chose the answer option, Line 1 only which is incorrect since that line is merely getting the Direction method. However, Line 4 would be the correct answer option since it is the line that is trying to get the location of all of the new rocks."
   ]
  },
  {
   "cell_type": "markdown",
   "metadata": {},
   "source": [
    "### Question 37\n",
    "\n",
    "Consider the following code segment."
   ]
  },
  {
   "cell_type": "code",
   "execution_count": null,
   "metadata": {},
   "outputs": [],
   "source": [
    "int num = /* initial value not shown */;\n",
    "boolean b1 = true;\n",
    "if (num > 0)\n",
    "{\n",
    "if (num >= 100)\n",
    "{\n",
    "b1 = false;\n",
    "}\n",
    "}\n",
    "else\n",
    "{\n",
    "if (num >= -100)\n",
    "{\n",
    "b1 = false;\n",
    "}\n",
    "}"
   ]
  },
  {
   "cell_type": "markdown",
   "metadata": {},
   "source": [
    "Which of the following statements assigns the same value to b2 as the code segment assigns to b1 for all values of num ?\n",
    "\n",
    "#### Answer \n",
    "I chose the answer that said boolean b2 = (num < -100) || (num > 100) which is incorrect since the statement assigns a different value to b2 than the code segment assigns to b1 when num is between 0 and 100, exclusive, or when num is greater than 100. The correct answer option is boolean b2 = (num < -100) || (num > 0 && num < 100) since the body of the first if clause in the code segment, b1 retains the value true if num is between 0 and 100, exclusive. In the body of the else clause, b1 retains the value true if num is less than -100. The statement assigns true to b2 if num is less than -100 or between 0 and 100, exclusive."
   ]
  },
  {
   "cell_type": "markdown",
   "metadata": {},
   "source": [
    "### Question 49\n",
    "\n",
    "Consider the following method."
   ]
  },
  {
   "cell_type": "code",
   "execution_count": null,
   "metadata": {},
   "outputs": [],
   "source": [
    "public static void whatIsIt(int a, int b)\n",
    "{\n",
    "if ((a < b) && (a > 0))\n",
    "{\n",
    "System.out.println(\"W\");\n",
    "}\n",
    "else if (a == b)\n",
    "{\n",
    "if (b > 0)\n",
    "{\n",
    "System.out.println(\"X\");\n",
    "}\n",
    "else if (b < 0)\n",
    "{\n",
    "System.out.println(\"Y\");\n",
    "}\n",
    "else if ((a == b) && (a == 0))\n",
    "{\n",
    "System.out.println(\"Z\");\n",
    "}\n",
    "}\n",
    "}"
   ]
  },
  {
   "cell_type": "markdown",
   "metadata": {},
   "source": [
    "Which of the following method calls will cause \"W\" to be printed?\n",
    "\n",
    "I. whatIsIt(10, 10)\n",
    "II. whatIsIt(-5, 5)\n",
    "III. whatIsIt(7, 10)\n",
    "\n",
    "#### Answer\n",
    "I chose the answer option II and III which is incorrect since in option II, \"W\" is not printed because the expression a > 0 evaluates to false. The correct answer is III only since option I, \"W\" is not printed because the expression a < b evaluates to false. In option II, \"W\" is not printed because the expression a > 0 evaluates to false. In option III, both a < b and a > 0 evaluate to true, so \"W\" is printed."
   ]
  },
  {
   "cell_type": "markdown",
   "metadata": {},
   "source": [
    "### Question 51\n",
    "\n",
    "Consider the following method, which returns an int based on its parameter x.\n",
    "\n",
    "```\n",
    "public static int puzzle(int x)\n",
    "{\n",
    "if (x > 20)\n",
    "{\n",
    "x -= 2;\n",
    "}\n",
    "else if (x % 2 == 0) // Line 7\n",
    "{\n",
    "x += 4;\n",
    "}\n",
    "return x;\n",
    "}\n",
    "```\n",
    "\n",
    "Consider a modification to the method that eliminates the else from line 7 so that line 7 becomes\n",
    "\n",
    "if (x % 2 == 0) // Modified line 7\n",
    "\n",
    "For which of the following values of x would the return values of the original method and the modified method differ?\n",
    "\n",
    "#### Answer\n",
    "I chose the answer that includes 5 which is incorrect because when x has the value 5, both versions of the method return 5. The correct answer is 22 because in the original method, the call puzzle(22) returns 20. The first condition evaluates to true, so x is decreased by two and 20 is returned. In the original method, when the condition in the if statement evaluates to true, the second condition, in the else if clause, is not evaluated. For the modified method, the first condition still evaluates to true and x is decreased by two. But now the second condition appears in an if statement, instead of in an else if clause, so the second condition is evaluated, found to be true, and x is increased by four. This results in the value 24 being returned."
   ]
  },
  {
   "cell_type": "markdown",
   "metadata": {},
   "source": [
    "### Question 53\n",
    "\n",
    "Consider the following two methods, which are intended to return the same values when they are called with the same positive integer parameter n."
   ]
  },
  {
   "cell_type": "code",
   "execution_count": null,
   "metadata": {},
   "outputs": [],
   "source": [
    "public static int mystery1(int n)\n",
    "{\n",
    "if (n > 1)\n",
    "{\n",
    "return 5 + mystery1(n - 1);\n",
    "}\n",
    "else\n",
    "{\n",
    "return 1;\n",
    "}\n",
    "}\n",
    "public static int mystery2(int n)\n",
    "{\n",
    "int total = 0;\n",
    "int x = 1;\n",
    "while (x < n)\n",
    "{\n",
    "total += 5;\n",
    "x++;\n",
    "}\n",
    "return total;\n",
    "}"
   ]
  },
  {
   "cell_type": "markdown",
   "metadata": {},
   "source": [
    "Which, if any, of the following changes to mystery2 is required so that the two methods work as intended?\n",
    "\n",
    "#### Answer\n",
    "I chose the condition in the while loop header should be x < n - 1 which is incorrect since that would change the way that the while loop functions. The correct answer is to initialize the variable total to 1."
   ]
  },
  {
   "cell_type": "markdown",
   "metadata": {},
   "source": [
    "### Question 55\n",
    "\n",
    "Assume that a and b are variables of type int. The expression\n",
    "\n",
    "!(a < b) && !(a > b)\n",
    "\n",
    "is equivalent to which of the following?\n",
    "\n",
    "#### Answer\n",
    "I chose the answer option a != b which is incorrect since a == b would be the correct answer option."
   ]
  },
  {
   "cell_type": "markdown",
   "metadata": {},
   "source": [
    "### Question 56\n",
    "\n",
    "Consider the following data field and method. The method removeDups is intended to remove all adjacent duplicate numbers from myData, but does not work as intended.\n",
    "\n",
    "```\n",
    "private ArrayList myData;\n",
    "public void removeDups ()\n",
    "{\n",
    "  int k = 1;\n",
    "  while (k < myData.size())\n",
    "  {\n",
    "    if (myData.get(k).equals(myData.get(k - 1)))\n",
    "    {\n",
    "      myData.remove(k);\n",
    "    }\n",
    "    k++;\n",
    "  }\n",
    "}\n",
    "```\n",
    "\n",
    "For example, if myData has the values 3 3 4 4 4 8 7 7 7, after calling removeDups, myData should have the values 3 4 8 7.\n",
    "Which of the following best describes how to fix the error so that removeDups works as intended?\n",
    "\n",
    "#### Answer\n",
    "I chose the answer option \"k should be initialized to 0 at the beginning of the method\" which is incorrect since there should actually be an else before the statement k++."
   ]
  },
  {
   "cell_type": "markdown",
   "metadata": {},
   "source": [
    "### Question 66\n",
    "\n",
    "Consider the following code segment.\n",
    "\n",
    "```\n",
    "for (int j = 1; j < 10; j += 2)\n",
    "{\n",
    "System.out.print(j);\n",
    "}\n",
    "```\n",
    "\n",
    "Which of the following code segments will produce the same output as the code segment above?\n",
    "\n",
    "#### Answer\n",
    "I chose answer option A which is incorrect since the given code segment prints 13579 and this option's code segment prints 357911. In this code segment, j is incremented before it is printed. The correct answer option is B since in the given for loop, j is initially 1 and increases by 2 repeatedly as long as it is less than 10. In this while loop, j is initially 1 and increases by 2 repeatedly while it is less than 10. Both code segments produce the output 13579."
   ]
  }
 ],
 "metadata": {
  "kernelspec": {
   "display_name": "Java",
   "language": "java",
   "name": "java"
  },
  "language_info": {
   "name": "java",
   "version": "3.10.6"
  },
  "orig_nbformat": 4,
  "vscode": {
   "interpreter": {
    "hash": "b0fa6594d8f4cbf19f97940f81e996739fb7646882a419484c72d19e05852a7e"
   }
  }
 },
 "nbformat": 4,
 "nbformat_minor": 2
}
