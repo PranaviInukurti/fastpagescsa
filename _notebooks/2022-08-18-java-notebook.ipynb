{
 "cells": [
  {
   "cell_type": "code",
   "execution_count": 1,
   "metadata": {},
   "outputs": [
    {
     "data": {
      "text/plain": [
       "{'cells': [{'cell_type': 'markdown',\n",
       "   'metadata': {},\n",
       "   'source': ['# Java Notebook\\n',\n",
       "    '> Java Jupyter Notebook\\n',\n",
       "    '\\n',\n",
       "    '- toc: false \\n',\n",
       "    '- badges: true\\n',\n",
       "    '- comments: true\\n',\n",
       "    '- categories: [jupyter]\\n',\n",
       "    '- image: images/chart-preview.png\\n',\n",
       "    '\\n']},\n",
       "  {'cell_type': 'code',\n",
       "   'execution_count': 1,\n",
       "   'metadata': {'vscode': {'languageId': 'java'}},\n",
       "   'outputs': [{'name': 'stdout',\n",
       "     'output_type': 'stream',\n",
       "     'text': [\"Hello and Welcome to Pranavi's Java world!\\n\"]}],\n",
       "   'source': ['System.out.println(\"Hello and Welcome to Pranavi\\'s Java world!\");']}],\n",
       " 'metadata': {'kernelspec': {'display_name': 'Java',\n",
       "   'language': 'java',\n",
       "   'name': 'java'},\n",
       "  'language_info': {'codemirror_mode': 'java',\n",
       "   'file_extension': '.jshell',\n",
       "   'mimetype': 'text/x-java-source',\n",
       "   'name': 'Java',\n",
       "   'pygments_lexer': 'java',\n",
       "   'version': '17.0.4.1+1-LTS-2'},\n",
       "  'orig_nbformat': 4,\n",
       "  'vscode': {'interpreter': {'hash': 'aee8b7b246df8f9039afb4144a1f6fd8d2ca17a180786b69acc140d282b71a49'}}},\n",
       " 'nbformat': 4,\n",
       " 'nbformat_minor': 2}"
      ]
     },
     "execution_count": 1,
     "metadata": {},
     "output_type": "execute_result"
    }
   ],
   "source": [
    "{\n",
    " \"cells\": [\n",
    "  {\n",
    "   \"cell_type\": \"markdown\",\n",
    "   \"metadata\": {},\n",
    "   \"source\": [\n",
    "    \"# Java Notebook\\n\",\n",
    "    \"> Java Jupyter Notebook\\n\",\n",
    "    \"\\n\",\n",
    "    \"- toc: false \\n\",\n",
    "    \"- badges: true\\n\",\n",
    "    \"- comments: true\\n\",\n",
    "    \"- categories: [jupyter]\\n\",\n",
    "    \"- image: images/chart-preview.png\\n\",\n",
    "    \"\\n\",\n",
    "   ]\n",
    "  },\n",
    "  {\n",
    "   \"cell_type\": \"code\",\n",
    "   \"execution_count\": 1,\n",
    "   \"metadata\": {\n",
    "    \"vscode\": {\n",
    "     \"languageId\": \"java\"\n",
    "    }\n",
    "   },\n",
    "   \"outputs\": [\n",
    "    {\n",
    "     \"name\": \"stdout\",\n",
    "     \"output_type\": \"stream\",\n",
    "     \"text\": [\n",
    "      \"Hello and Welcome to Pranavi's Java world!\\n\"\n",
    "     ]\n",
    "    }\n",
    "   ],\n",
    "   \"source\": [\n",
    "    \"System.out.println(\\\"Hello and Welcome to Pranavi's Java world!\\\");\"\n",
    "   ]\n",
    "  }\n",
    " ],\n",
    " \"metadata\": {\n",
    "  \"kernelspec\": {\n",
    "   \"display_name\": \"Java\",\n",
    "   \"language\": \"java\",\n",
    "   \"name\": \"java\"\n",
    "  },\n",
    "  \"language_info\": {\n",
    "   \"codemirror_mode\": \"java\",\n",
    "   \"file_extension\": \".jshell\",\n",
    "   \"mimetype\": \"text/x-java-source\",\n",
    "   \"name\": \"Java\",\n",
    "   \"pygments_lexer\": \"java\",\n",
    "   \"version\": \"17.0.4.1+1-LTS-2\"\n",
    "  },\n",
    "  \"orig_nbformat\": 4,\n",
    "  \"vscode\": {\n",
    "   \"interpreter\": {\n",
    "    \"hash\": \"aee8b7b246df8f9039afb4144a1f6fd8d2ca17a180786b69acc140d282b71a49\"\n",
    "   }\n",
    "  }\n",
    " },\n",
    " \"nbformat\": 4,\n",
    " \"nbformat_minor\": 2\n",
    "}\n"
   ]
  }
 ],
 "metadata": {
  "kernelspec": {
   "display_name": "Python 3.10.6 64-bit",
   "language": "python",
   "name": "python3"
  },
  "language_info": {
   "codemirror_mode": {
    "name": "ipython",
    "version": 3
   },
   "file_extension": ".py",
   "mimetype": "text/x-python",
   "name": "python",
   "nbconvert_exporter": "python",
   "pygments_lexer": "ipython3",
   "version": "3.10.6"
  },
  "orig_nbformat": 4,
  "vscode": {
   "interpreter": {
    "hash": "b0fa6594d8f4cbf19f97940f81e996739fb7646882a419484c72d19e05852a7e"
   }
  }
 },
 "nbformat": 4,
 "nbformat_minor": 2
}
