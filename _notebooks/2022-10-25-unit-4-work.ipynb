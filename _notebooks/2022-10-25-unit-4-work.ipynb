{
 "cells": [
  {
   "cell_type": "markdown",
   "metadata": {},
   "source": [
    "# Unit 4 Team Homework\n",
    "\n",
    "> Iterations\n",
    "\n",
    "- toc: false \n",
    "- badges: true\n",
    "- comments: true\n",
    "- categories: [jupyter]"
   ]
  },
  {
   "cell_type": "markdown",
   "metadata": {},
   "source": [
    "### Caesar Cipher Program\n",
    "\n",
    "Try to write a caesar cipher program that shifts each letter in a message 3 letters forward. Use any of the methods you learned today. Use it to decode the 3 messages we've given you!"
   ]
  },
  {
   "cell_type": "code",
   "execution_count": 1,
   "metadata": {},
   "outputs": [
    {
     "name": "stdout",
     "output_type": "stream",
     "text": [
      "Decrypted Message1 : Nice job!\n",
      "Decrypted Message2 : code code code\n",
      "Decrypted Message3 : supercalifragilisticexpialidocious\n"
     ]
    }
   ],
   "source": [
    "public class CaesarCipher {\n",
    "\n",
    "    public static void main(String[] args) {\n",
    "\n",
    "        String[] letters = {\"a\", \"b\", \"c\", \"d\", \"e\", \"f\", \"g\", \"h\", \"i\", \"j\", \"k\", \"l\", \"m\", \"n\", \"o\", \"p\", \"q\", \"r\", \"s\", \"t\", \"u\", \"v\", \"w\", \"x\", \"y\", \"z\"};\n",
    "        String message1 = \"Kfzb gly!\";\n",
    "        String message2 = \"zlab zlab zlab\";\n",
    "        String message3 = \"prmbozxifcoxdfifpqfzbumfxifalzflrp\";\n",
    "\n",
    "        int shiftBy = 3 ; // showing how much to shift by\n",
    "\n",
    "        CaesarCipher caesarCipher = new CaesarCipher(); // instantiating CaesarCipher class\n",
    "\n",
    "        System.out.println(\"Decrypted Message1 : \" + caesarCipher.decryptMessage(message1, shiftBy));\n",
    "        System.out.println(\"Decrypted Message2 : \" + caesarCipher.decryptMessage(message2, shiftBy));\n",
    "        System.out.println(\"Decrypted Message3 : \" + caesarCipher.decryptMessage(message3, shiftBy));\n",
    "    }\n",
    "\n",
    "    // method for decrypting given message by the shift int value \n",
    "    String decryptMessage(String input, int shiftBy){ \n",
    "\n",
    "        int asciia =(int) 'a'; // assigning ascii values for a \n",
    "\n",
    "        String decryptMessage = \"\";\n",
    "        for(int i=0 ; i < input.length(); i++){\n",
    "                char c = input.charAt(i) ; \n",
    "                char newChar = c ;\n",
    "                // does decryption only for letters (not the exclamation mark, not spaces, etc.)\n",
    "                if( Character.isLetter(c) ){\n",
    "                    int intValue = (int) c ; // finds the ascii value for given letter\n",
    "                    int newValue = (intValue - asciia + shiftBy ) % 26 ; // assiging deciphered ascii value by subtracting the ascii value and adding the shift value\n",
    "                    newValue = newValue + asciia ;\n",
    "                    newChar = (char) newValue; // converting ascii value to new character\n",
    "                }\n",
    "                decryptMessage += newChar ;\n",
    "        }\n",
    "        return decryptMessage;\n",
    "    }\n",
    "\n",
    "}\n",
    "CaesarCipher.main(null);"
   ]
  }
 ],
 "metadata": {
  "kernelspec": {
   "display_name": "Java",
   "language": "java",
   "name": "java"
  },
  "language_info": {
   "codemirror_mode": "java",
   "file_extension": ".jshell",
   "mimetype": "text/x-java-source",
   "name": "java",
   "pygments_lexer": "java",
   "version": "17.0.4+8"
  },
  "orig_nbformat": 4
 },
 "nbformat": 4,
 "nbformat_minor": 2
}
