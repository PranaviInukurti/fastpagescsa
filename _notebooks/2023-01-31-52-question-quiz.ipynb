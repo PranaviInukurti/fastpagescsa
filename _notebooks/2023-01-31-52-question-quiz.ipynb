{
 "cells": [
  {
   "cell_type": "markdown",
   "metadata": {},
   "source": [
    "# 52 Question Practice MCQ Test \n",
    "> Includes test corrections for missed questions along with overall takeaways. \n",
    "\n",
    "- toc: false \n",
    "- badges: true\n",
    "- comments: true\n",
    "- categories: [jupyter]"
   ]
  },
  {
   "cell_type": "markdown",
   "metadata": {},
   "source": [
    "### Question 14\n",
    "Consider the following method, which is intended to return the number of columns in the two-dimensional array arr for which the sum of the elements in the column is greater than the parameter val."
   ]
  },
  {
   "cell_type": "code",
   "execution_count": null,
   "metadata": {},
   "outputs": [],
   "source": [
    "public int countCols(int[][] arr, int val)\n",
    "{\n",
    "int count = 0;\n",
    "for (int col = 0; col < arr[0].length; col++) // Line 5\n",
    "{\n",
    "int sum = 0;\n",
    "for (int[] row : col) // Line 8\n",
    "{\n",
    "sum += row[col]; // Line 10\n",
    "}\n",
    "if (sum > val)\n",
    "{\n",
    "count++;\n",
    "}\n",
    "}\n",
    "return count;\n",
    "}"
   ]
  },
  {
   "cell_type": "markdown",
   "metadata": {},
   "source": [
    "The countCols method does not work as intended. Which of the following changes should be made so the method works as intended?\n",
    "\n",
    "#### Answer \n",
    "I chose answer option B which is incorrect since the enhanced for loop in line 8 is intended to traverse the rows of the two-dimensional array arr. Each row of arr is a one-dimensional array of int values, int[] row. The correct answer is C since two-dimensional arrays are stored as arrays of one-dimensional arrays. Line 8 is intended to assign to row, a one-dimensional array of int values, a single row of the two-dimensional array arr. The original version of line 8 attempts to assign a row of col, but col is not a two-dimensional array."
   ]
  },
  {
   "cell_type": "markdown",
   "metadata": {},
   "source": [
    "### Question 15\n",
    "Consider the following method, which is intended to count the number of times the letter \"A\" appears in the string str."
   ]
  },
  {
   "cell_type": "code",
   "execution_count": null,
   "metadata": {},
   "outputs": [],
   "source": [
    "public static int countA(String str)\n",
    "{\n",
    "int count = 0;\n",
    "while (str.length() > 0)\n",
    "{\n",
    "int pos = str.indexOf(\"A\");\n",
    "if (pos >= 0)\n",
    "{\n",
    "count++;\n",
    "/* missing code */\n",
    "}\n",
    "else\n",
    "{\n",
    "return count;\n",
    "}\n",
    "}\n",
    "return count;\n",
    "}"
   ]
  },
  {
   "cell_type": "markdown",
   "metadata": {},
   "source": [
    "Which of the following should be used to replace /* missing code */ so that method countA will work as intended?\n",
    "\n",
    "#### Answer\n",
    "I chose \"str = str.substring(pos);\" as my answer which is incorrect since this statement would result in an infinite loop for any value of str containing one or more occurrences of the letter \"A\", since str, following the execution of this statement, would still include the letter \"A\". The correct answer is \"str = str.substring(pos + 1);\" since in the while loop, the variable pos is assigned the position of the first occurrence of \"A\" in str. If pos is less than zero, there are no more occurrences of \"A\" and the value of count is returned. Otherwise, the value of count is incremented and str is updated by removing the initial characters of str, up to and including the occurrence of \"A\" that was last included in count. The statement str = str.substring(pos + 1) accomplishes the update by selecting characters of str starting one character after pos."
   ]
  },
  {
   "cell_type": "markdown",
   "metadata": {},
   "source": [
    "### Question 29\n",
    "Consider the code segment below."
   ]
  },
  {
   "cell_type": "code",
   "execution_count": null,
   "metadata": {},
   "outputs": [],
   "source": [
    "int a = 1988;\n",
    "int b = 1990;\n",
    "String claim = \" that the world’s athletes \" +\n",
    "\"competed in Olympic Games in \";\n",
    "String s = \"It is \" + true + claim + a +\n",
    "\" but \" + false + claim + b + \".\";\n",
    "System.out.println(s);"
   ]
  },
  {
   "cell_type": "markdown",
   "metadata": {},
   "source": [
    "What, if anything, is printed when the code segment is executed?\n",
    "\n",
    "#### Answer\n",
    "I chose E which is incorrect since the code actually does compile without error. The correct answer is that \"It is true that the world’s athletes competed in Olympic Games in 1988 but false that the world’s athletes competed in Olympic Games in 1990.\" since the + operator concatenates the String literals, boolean values, String variables, and int variables in the order that they appear."
   ]
  },
  {
   "cell_type": "markdown",
   "metadata": {},
   "source": [
    "### Question 32\n",
    "In the following code segment, assume that the ArrayList data has been initialized to contain the Integer values [4, 3, 4, 5, 3, 4]."
   ]
  },
  {
   "cell_type": "code",
   "execution_count": null,
   "metadata": {},
   "outputs": [],
   "source": [
    "int j = 0;\n",
    "while (j < data.size() - 1)\n",
    "{\n",
    "if (data.get(j) > data.get(j + 1))\n",
    "{\n",
    "System.out.print(data.get(j + 1) + \" \");\n",
    "}\n",
    "j++;\n",
    "}"
   ]
  },
  {
   "cell_type": "markdown",
   "metadata": {},
   "source": [
    "What, if anything, is printed as a result of executing the code segment?\n",
    "\n",
    "#### Answer \n",
    "I chose \"Nothing is printed because an IndexOutOfBoundsException occurs.\" as my answer which is incorrect since the code does actually run. The correct answer is \"3 3\" because the code segment iterates over the elements of data. Whenever an element is greater than the next element, the next element is printed. Because 4 is greater than the next element (3), 3 is printed. Because 5 is greater than the next element (3), another 3 is printed."
   ]
  }
 ],
 "metadata": {
  "kernelspec": {
   "display_name": "Java",
   "language": "java",
   "name": "java"
  },
  "language_info": {
   "name": "java",
   "version": "3.10.6"
  },
  "orig_nbformat": 4,
  "vscode": {
   "interpreter": {
    "hash": "b0fa6594d8f4cbf19f97940f81e996739fb7646882a419484c72d19e05852a7e"
   }
  }
 },
 "nbformat": 4,
 "nbformat_minor": 2
}
