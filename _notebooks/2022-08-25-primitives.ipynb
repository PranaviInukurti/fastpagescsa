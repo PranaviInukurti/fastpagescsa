{
 "cells": [
  {
   "cell_type": "markdown",
   "metadata": {},
   "source": [
    "# Primitives Notebook\n",
    "> A Jupyter Notebook using primitives\n",
    "\n",
    "- toc: true\n",
    "- badges: true\n",
    "- comments: true\n",
    "- categories: [jupyter]"
   ]
  },
  {
   "cell_type": "code",
   "execution_count": 9,
   "metadata": {
    "vscode": {
     "languageId": "java"
    }
   },
   "outputs": [
    {
     "name": "stdout",
     "output_type": "stream",
     "text": [
      "Choose an operator: +, -, *, or /\n",
      "Enter first number\n",
      "Enter second number\n",
      "5.0 + 6.0 = 11.0\n"
     ]
    }
   ],
   "source": [
    "import java.util.Scanner;\n",
    "\n",
    "// defining the class\n",
    "public class Main {\n",
    "\n",
    "    // use of wrapper class to use String to later print out the output\n",
    "  public static void main(String[] args) {\n",
    "\n",
    "    // use of primitives \n",
    "    char operator;\n",
    "    Double number1, number2, result;\n",
    "\n",
    "    // create an object of Scanner class\n",
    "    Scanner input = new Scanner(System.in);\n",
    "\n",
    "    // ask users to enter operator\n",
    "    System.out.println(\"Choose an operator: +, -, *, or /\");\n",
    "    operator = input.next().charAt(0);\n",
    "\n",
    "    // ask users for input numbers\n",
    "    System.out.println(\"Enter first number\");\n",
    "    number1 = input.nextDouble();\n",
    "\n",
    "    System.out.println(\"Enter second number\");\n",
    "    number2 = input.nextDouble();\n",
    "\n",
    "    switch (operator) {\n",
    "\n",
    "      // performs addition between input numbers\n",
    "      case '+':\n",
    "        result = number1 + number2;\n",
    "        System.out.println(number1 + \" + \" + number2 + \" = \" + result);\n",
    "        break;\n",
    "\n",
    "      // performs subtraction between input numbers\n",
    "      case '-':\n",
    "        result = number1 - number2;\n",
    "        System.out.println(number1 + \" - \" + number2 + \" = \" + result);\n",
    "        break;\n",
    "\n",
    "      // performs multiplication between input numbers\n",
    "      case '*':\n",
    "        result = number1 * number2;\n",
    "        System.out.println(number1 + \" * \" + number2 + \" = \" + result);\n",
    "        break;\n",
    "\n",
    "      // performs division between input numbers\n",
    "      case '/':\n",
    "        result = number1 / number2;\n",
    "        System.out.println(number1 + \" / \" + number2 + \" = \" + result);\n",
    "        break;\n",
    "\n",
    "      default:\n",
    "        System.out.println(\"Invalid operator!\");\n",
    "        break;\n",
    "    }\n",
    "\n",
    "    input.close();\n",
    "  }\n",
    "}\n",
    "\n",
    "// IJava run command\n",
    "Main.main(null);"
   ]
  }
 ],
 "metadata": {
  "kernelspec": {
   "display_name": "Java",
   "language": "java",
   "name": "java"
  },
  "language_info": {
   "codemirror_mode": "java",
   "file_extension": ".jshell",
   "mimetype": "text/x-java-source",
   "name": "Java",
   "pygments_lexer": "java",
   "version": "17.0.4+8"
  },
  "orig_nbformat": 4,
  "vscode": {
   "interpreter": {
    "hash": "b0fa6594d8f4cbf19f97940f81e996739fb7646882a419484c72d19e05852a7e"
   }
  }
 },
 "nbformat": 4,
 "nbformat_minor": 2
}
