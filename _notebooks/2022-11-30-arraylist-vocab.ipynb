{
 "cells": [
  {
   "cell_type": "markdown",
   "metadata": {},
   "source": [
    "# Week of 11-28, ArrayList and Vocab\n",
    "- toc: true \n",
    "- badges: true\n",
    "- comments: true\n",
    "- categories: [jupyter]"
   ]
  },
  {
   "cell_type": "markdown",
   "metadata": {},
   "source": [
    "--- \n",
    "## Trimester 1 Notes\n",
    "\n",
    "### Casting Notes\n",
    "- Casting is when programmers are trying to assign a value from one data type to another data type\n",
    "    - Widening Casting is when smaller data types convert to bigger data types\n",
    "        - Happens automatically\n",
    "    - Narrowing Casting is when larger data types convert to smaller data types\n",
    "        - Happens manually\n",
    "- The chain of smallest to biggest data types is \n",
    "    - byte, short, char, int, long, float, double"
   ]
  },
  {
   "cell_type": "markdown",
   "metadata": {},
   "source": [
    "##### Widening Casting"
   ]
  },
  {
   "cell_type": "code",
   "execution_count": 4,
   "metadata": {
    "vscode": {
     "languageId": "java"
    }
   },
   "outputs": [
    {
     "name": "stdout",
     "output_type": "stream",
     "text": [
      "9\n",
      "9.0\n"
     ]
    }
   ],
   "source": [
    "public class Main {\n",
    "    public static void main(String[] args) {\n",
    "      int myInt = 9;\n",
    "      double myDouble = myInt; // Automatic casting: int to double\n",
    "  \n",
    "      System.out.println(myInt);      // Outputs 9\n",
    "      System.out.println(myDouble);   // Outputs 9.0\n",
    "    }\n",
    "  }\n",
    "  Main.main(null);"
   ]
  },
  {
   "cell_type": "markdown",
   "metadata": {},
   "source": [
    "##### Narrowing Casting"
   ]
  },
  {
   "cell_type": "code",
   "execution_count": 5,
   "metadata": {
    "vscode": {
     "languageId": "java"
    }
   },
   "outputs": [
    {
     "name": "stdout",
     "output_type": "stream",
     "text": [
      "9.78\n",
      "9\n"
     ]
    }
   ],
   "source": [
    "public class Main {\n",
    "    public static void main(String[] args) {\n",
    "      double myDouble = 9.78d;\n",
    "      int myInt = (int) myDouble; // Manual casting: double to int\n",
    "  \n",
    "      System.out.println(myDouble);   // Outputs 9.78\n",
    "      System.out.println(myInt);      // Outputs 9\n",
    "    }\n",
    "  }\n",
    "  Main.main(null);"
   ]
  },
  {
   "cell_type": "markdown",
   "metadata": {},
   "source": [
    "##### Casting with Division\n",
    "\n",
    "- Java typically assumes that an integer result is appropriate when doing division with integers\n",
    "    - However, using a mixture of integers (int) and floating point numbers (double), Java assumes that a double result is appropriate\n",
    "        - To do this though, one must use casting\n",
    "            - Cast one of the integers to a double using (double), changing the “shape” or the data type of the variable"
   ]
  },
  {
   "cell_type": "code",
   "execution_count": 10,
   "metadata": {
    "vscode": {
     "languageId": "java"
    }
   },
   "outputs": [
    {
     "name": "stdout",
     "output_type": "stream",
     "text": [
      "0\n",
      "0.3333333333333333\n",
      "0.3333333333333333\n",
      "0.33333334\n"
     ]
    }
   ],
   "source": [
    "public class Test\n",
    "{\n",
    "   public static void main(String[] args)\n",
    "   {\n",
    "    // automatic casting here\n",
    "     System.out.println(1 / 3);\n",
    "     System.out.println(1.0 / 3);\n",
    "     System.out.println(1 / 3.0);\n",
    "     // manual casting here\n",
    "     System.out.println((float) 1 / 3);\n",
    "   }\n",
    "}\n",
    "Test.main(null);"
   ]
  },
  {
   "cell_type": "markdown",
   "metadata": {},
   "source": [
    "##### Casting with Truncating\n",
    "\n",
    "- Truncating a number essentially means to round it\n",
    "    - In division, using truncating would mean to remove the amount of decimal or fractional numbers to create an intended result"
   ]
  },
  {
   "cell_type": "code",
   "execution_count": 12,
   "metadata": {
    "vscode": {
     "languageId": "java"
    }
   },
   "outputs": [
    {
     "name": "stdout",
     "output_type": "stream",
     "text": [
      "The number before truncation is: 19.87874548973101\n",
      "The number after truncation is: 19.87874\n"
     ]
    }
   ],
   "source": [
    "import java.io.*;   \n",
    "public class TrunctionExample1  \n",
    "{   \n",
    "//driver code  \n",
    "public static void main(String args[])   \n",
    "{   \n",
    "//the number to truncate      \n",
    "double num = 19.87874548973101;   \n",
    "//number of digits to take after decimal  \n",
    "int digits = 5;   \n",
    "System.out.println(\"The number before truncation is: \"+num);   \n",
    "//calling user-defined method that truncates a number  \n",
    "truncateNumber(num, digits);   \n",
    "}  \n",
    "//user-defined method to truncate a number      \n",
    "static void truncateNumber(double n, int decimalplace)   \n",
    "{   \n",
    "//moves the decimal to the right   \n",
    "n = n* Math.pow(10, decimalplace);   \n",
    "//determines the floor value  \n",
    "n = Math.floor(n);   \n",
    "//dividing the floor value by 10 to the power decimalplace  \n",
    "n = n / Math.pow(10, decimalplace);   \n",
    "//prints the number after truncation  \n",
    "System.out.println(\"The number after truncation is: \"+n);   \n",
    "}   \n",
    "}  \n",
    "TrunctionExample1.main(null);"
   ]
  },
  {
   "cell_type": "markdown",
   "metadata": {},
   "source": [
    "### Wrapper Classes\n",
    "\n",
    "- Is essentially the practice of using primitive data types as objects\n",
    "- You can use certain methods to get information about the specific object\n",
    "    Methods like the following are used to get the value associated with the respective wrapper object\n",
    "    ```\n",
    "    intValue(), byteValue(), shortValue(), longValue(), floatValue(), doubleValue(), charValue(), booleanValue()\n",
    "    ```"
   ]
  },
  {
   "cell_type": "code",
   "execution_count": 13,
   "metadata": {
    "vscode": {
     "languageId": "java"
    }
   },
   "outputs": [
    {
     "name": "stdout",
     "output_type": "stream",
     "text": [
      "5\n",
      "5.99\n",
      "A\n"
     ]
    }
   ],
   "source": [
    "public class Main {\n",
    "    public static void main(String[] args) {\n",
    "      Integer myInt = 5;\n",
    "      Double myDouble = 5.99;\n",
    "      Character myChar = 'A';\n",
    "      System.out.println(myInt.intValue());\n",
    "      System.out.println(myDouble.doubleValue());\n",
    "      System.out.println(myChar.charValue());\n",
    "    }\n",
    "  }\n",
    "Main.main(null);"
   ]
  },
  {
   "cell_type": "markdown",
   "metadata": {},
   "source": [
    "- The  ``` to String()``` method can be used when converting wrapper object to strings\n",
    "    - The  ``` length() ``` outputs the length of the \"string\" when converting an int to a string"
   ]
  },
  {
   "cell_type": "code",
   "execution_count": 14,
   "metadata": {
    "vscode": {
     "languageId": "java"
    }
   },
   "outputs": [
    {
     "name": "stdout",
     "output_type": "stream",
     "text": [
      "3\n"
     ]
    }
   ],
   "source": [
    "public class Main {\n",
    "    public static void main(String[] args) {\n",
    "      Integer myInt = 100;\n",
    "      String myString = myInt.toString();\n",
    "      System.out.println(myString.length());\n",
    "    }\n",
    "  }\n",
    "Main.main(null);"
   ]
  },
  {
   "cell_type": "markdown",
   "metadata": {},
   "source": [
    "### Concatenation\n",
    "\n",
    "- Combining two or more strings to form a new string\n",
    "    - Happens by appending the next string to the end of the previous strings\n",
    "    - In Java, two strings can be concatenated by using the + or += operator, or the ``` concat() ``` method in the java.lang.String class\n",
    "- Example\n",
    "    - H E L L O  +   W O R L D becomes\n",
    "    - H E L L O W O R L D"
   ]
  },
  {
   "cell_type": "markdown",
   "metadata": {},
   "source": [
    "##### Concatenation Using + Operator"
   ]
  },
  {
   "cell_type": "code",
   "execution_count": 15,
   "metadata": {
    "vscode": {
     "languageId": "java"
    }
   },
   "outputs": [
    {
     "name": "stdout",
     "output_type": "stream",
     "text": [
      "HelloWorld\n",
      "HelloWorld\n"
     ]
    }
   ],
   "source": [
    "class HelloWorld {\n",
    "    public static void main( String args[] ) {\n",
    "        String first = \"Hello\"; \n",
    "        String second = \"World\";\n",
    "\n",
    "        // way 1\n",
    "        String third = first + second;\n",
    "        System.out.println(third);\n",
    "\n",
    "        // way 2\n",
    "        first += second;\n",
    "        System.out.println(first);        \n",
    "    }\n",
    "}\n",
    "HelloWorld.main(null);"
   ]
  },
  {
   "cell_type": "markdown",
   "metadata": {},
   "source": [
    "##### Concatenation Using Concat Method"
   ]
  },
  {
   "cell_type": "code",
   "execution_count": 16,
   "metadata": {
    "vscode": {
     "languageId": "java"
    }
   },
   "outputs": [
    {
     "name": "stdout",
     "output_type": "stream",
     "text": [
      "HelloWorld\n"
     ]
    }
   ],
   "source": [
    "class HelloWorld {\n",
    "    public static void main( String args[] ) {\n",
    "        String first = \"Hello\"; \n",
    "        String second = \"World\";\n",
    "\n",
    "        String third = first.concat(second); \n",
    "        System.out.println(third);\n",
    "    }\n",
    "}\n",
    "HelloWorld.main(null);"
   ]
  },
  {
   "cell_type": "markdown",
   "metadata": {},
   "source": [
    "### Java Math Class.random\n",
    "\n",
    "- The java.lang.Math.random() is used to return a pseudorandom double type number that is >= 0.0 and < 1.0\n",
    "    - Random number always between 0 and 1"
   ]
  },
  {
   "cell_type": "code",
   "execution_count": 17,
   "metadata": {
    "vscode": {
     "languageId": "java"
    }
   },
   "outputs": [
    {
     "name": "stdout",
     "output_type": "stream",
     "text": [
      "0.22257006893484987\n",
      "0.6831401769648252\n"
     ]
    }
   ],
   "source": [
    "public class MathClass  \n",
    "{  \n",
    "    public static void main(String[] args)   \n",
    "    {  \n",
    "        // generate random number  \n",
    "        double a = Math.random();  \n",
    "        double b = Math.random();  \n",
    "        // Output is different every time this code is executed    \n",
    "        System.out.println(a);  \n",
    "        System.out.println(b);  \n",
    "    }  \n",
    "}  \n",
    "MathClass.main(null);"
   ]
  },
  {
   "cell_type": "markdown",
   "metadata": {},
   "source": [
    "##### Ranged Results\n",
    "\n",
    "- For specific range of values, you have to multiply the returned value with the magnitude of the range\n",
    "    - To get the random number between 0 to 20, the resultant address has to be multiplied by 20 to get the desired result"
   ]
  },
  {
   "cell_type": "code",
   "execution_count": 18,
   "metadata": {
    "vscode": {
     "languageId": "java"
    }
   },
   "outputs": [
    {
     "name": "stdout",
     "output_type": "stream",
     "text": [
      "5.542133912557907\n",
      "4.062478517038832\n"
     ]
    }
   ],
   "source": [
    "public class RangedResult  \n",
    "{  \n",
    "    public static void main(String[] args)   \n",
    "    {  \n",
    "        // Generate random number between 0 to 20  \n",
    "        double a = Math.random() * 20;  \n",
    "        double b = Math.random() * 20;  \n",
    "        // Output is different every time this code is executed    \n",
    "        System.out.println(a);  \n",
    "        System.out.println(b);  \n",
    "    }  \n",
    "}  \n",
    "RangedResult.main(null);"
   ]
  },
  {
   "cell_type": "markdown",
   "metadata": {},
   "source": [
    "### Compound Boolean Expressions\n",
    "\n",
    "- Three compound boolean logical operators\n",
    "    - Operand1 must be a boolean variable and op may be &, |, or ^\n",
    "    - Java does not have any operators like &&= and ||=\n",
    "- Compound Boolean Logical Assignment Operators are used in the form ``` operand1 op= operand2 ``` which essentially means ``` operand1 = operand1 op operand2 ```\n",
    "- For &= operator, if both operands evaluate to true, &= returns true. Otherwise, it returns false.\n",
    "```\n",
    "boolean b = true;\n",
    "b &= true;  // Assigns true to b\n",
    "b &= false; // Assigns false to b\n",
    "```"
   ]
  },
  {
   "cell_type": "code",
   "execution_count": 19,
   "metadata": {
    "vscode": {
     "languageId": "java"
    }
   },
   "outputs": [
    {
     "name": "stdout",
     "output_type": "stream",
     "text": [
      "No, you can't go out\n"
     ]
    }
   ],
   "source": [
    "public class Permission\n",
    "{\n",
    "   public static void main(String[] args)\n",
    "   {\n",
    "     boolean cleanedRoom = true;\n",
    "     boolean didHomework = false;\n",
    "     if (cleanedRoom && didHomework)\n",
    "     {\n",
    "         System.out.println(\"You can go out\");\n",
    "     }\n",
    "     else\n",
    "     {\n",
    "         System.out.println(\"No, you can't go out\");\n",
    "     }\n",
    "   }\n",
    "}\n",
    "Permission.main(null);"
   ]
  },
  {
   "cell_type": "markdown",
   "metadata": {},
   "source": [
    "### Truth Tables\n",
    "\n",
    "- Shows result for P && Q when P and Q are both boolean expressions (can be true or false)\n",
    "    - An expression involving logical operators like (P && Q) evaluates to a Boolean value, true or false \n",
    "    - P && Q is only true if both P and Q are true.\n",
    "\n",
    "![Truth Table with &&](../images/truthtable2.png)\n",
    "\n",
    "- Shows the result for P || Q when P and Q are both boolean expressions\n",
    "    - P || Q is true if either P or Q is true\n",
    "        - Also true when both of them are true\n",
    "\n",
    "![Truth Table with ||](../images/truthtable1.png)"
   ]
  },
  {
   "cell_type": "markdown",
   "metadata": {},
   "source": [
    "### De Morgan's Law\n",
    "\n",
    "- This law came after the man named Augustus De Morgan who developed it in the 1800s. The law states how to determine what the code will execute when negation rules are applied. For example, if a and b are both boolean values, then:\n",
    "* !(a && b) is equivalent to !a || !b\n",
    "* !(a || b) is equivalent to !a && !b\n",
    "\n",
    "The following negation conditions will also apply under De Morgan's law:\n",
    "* < becomes >=\n",
    "* \">\" becomes <=\n",
    "* == becomes !=\n",
    "* <= becomes >\n",
    "* = becomes <\n",
    "* != becomes =="
   ]
  },
  {
   "cell_type": "code",
   "execution_count": 20,
   "metadata": {
    "vscode": {
     "languageId": "java"
    }
   },
   "outputs": [
    {
     "name": "stdout",
     "output_type": "stream",
     "text": [
      "The state is either Texas or Hawaii\n",
      "The state is either Texas or Hawaii\n"
     ]
    }
   ],
   "source": [
    "String state = \"HI\";\n",
    "\n",
    "// !(a || b) is equivalent to !a && !b\n",
    "if (!(state.equals(\"TX\") || state.equals(\"HI\"))) {\n",
    "    System.out.println(\"The state is not Texas or Hawaii\");\n",
    "}\n",
    "else {\n",
    "    System.out.println(\"The state is either Texas or Hawaii\");\n",
    "}\n",
    "\n",
    "// !(a && b) is equivalent to !a || !b\n",
    "if (!(state.equals(\"TX\") && state.equals(\"HI\"))) {\n",
    "    System.out.println(\"The state is either Texas or Hawaii\");\n",
    "}\n",
    "else {\n",
    "    System.out.println(\"The state is not Texas or Hawaii\");\n",
    "}"
   ]
  },
  {
   "cell_type": "markdown",
   "metadata": {},
   "source": [
    "### Comparing in Java\n",
    "\n",
    "##### Comparing Numbers\n",
    "\n",
    "- To check two numbers for equality in Java, we can use the ``` Equals() ``` method as well as the == operator\n",
    "    - First, you must set the Integers\n",
    "```\n",
    "Integer val1 = new Integer(5);\n",
    "Integer val2 = new Integer(5);\n",
    "```\n",
    "- Next check their equality using the == operator\n",
    "```\n",
    "(val1 == val2)\n",
    "```"
   ]
  },
  {
   "cell_type": "code",
   "execution_count": 22,
   "metadata": {
    "vscode": {
     "languageId": "java"
    }
   },
   "outputs": [
    {
     "name": "stdout",
     "output_type": "stream",
     "text": [
      "Integer 1 = 5\n",
      "Integer 2 = 5\n",
      "Integer 3 = 10\n",
      "val1 is equal to val2 = false\n",
      "val2 is not equal to val3 = true\n"
     ]
    }
   ],
   "source": [
    "public class CompareNum {\n",
    "    public static void main( String args[] ) {\n",
    "       Integer val1 = new Integer(5);\n",
    "       Integer val2 = new Integer(5);\n",
    "       Integer val3 = new Integer(10);\n",
    "       System.out.println(\"Integer 1 = \"+val1);\n",
    "       System.out.println(\"Integer 2 = \"+val2);\n",
    "       System.out.println(\"Integer 3 = \"+val3);\n",
    "       System.out.println(\"val1 is equal to val2 = \"+(val1 == val2));\n",
    "       System.out.println(\"val2 is not equal to val3 = \"+(val2 != val3));\n",
    "    }\n",
    " }\n",
    "CompareNum.main(null);"
   ]
  },
  {
   "cell_type": "markdown",
   "metadata": {},
   "source": [
    "##### Comparing Strings\n",
    "\n",
    "- There are five different ways to compare strings in Java\n",
    "    - Using user-defined function\n",
    "    - Using ```String.equals()```\n",
    "    - Using ```String.equalsIgnoreCase()```\n",
    "    - Using ```Objects.equals()```\n",
    "    - Using ```String.compareTo()```\n",
    "- In general both equals() and == operator both are used to compare objects to check equality\n",
    "    - There are some differences between the two\n",
    "        - one is method and other is operator\n",
    "        - == operators is for reference comparison and .equals() method is for content comparison\n",
    "    - Essentially, == checks if both objects point to the same memory location whereas .equals() actually compares the values of two objects"
   ]
  },
  {
   "cell_type": "markdown",
   "metadata": {},
   "source": [
    "##### Comparing Objects\n",
    "\n",
    "- You can compare objects in Java by using the == and != operators, which tells if two Java objects are the same or not\n",
    "    - This also works when comparing a primitive value with its wrapper type counterpart\n",
    "```\n",
    "Integer a = new Integer(1);\n",
    "assertThat(1 == a).isTrue();\n",
    "```\n",
    "- The equals method can also be used to compare objects\n",
    "    - The methods returns true if both objects are the same and false if the two objects are different"
   ]
  },
  {
   "cell_type": "markdown",
   "metadata": {},
   "source": [
    "### For, Enhanced For, While, and Nested Loops\n",
    "\n",
    "##### For Loops\n",
    "\n",
    "- simplifies code by allowing it to repeat itself\n",
    "- while loops have two portions: the boolean expression and the brackets that have some code in them\n",
    "    - the boolean expression is checked before the loop starts\n",
    "        - every time the loop ends and is about to start anew\n",
    "    - changes conditions again and again until returns false and ends the while loop\n",
    "    - iterates over numerous elements\n",
    "- for loops has three portions: initialization, test condition, and change\n",
    "```\n",
    "for (int x = 1; x <= 5; x++) {\n",
    "    System.out.println(x);\n",
    "}\n",
    "```\n",
    "- when the loop condition is false, execution will continue at the next statement after the body of the loop.\n",
    "- strings can also be manipulated through the use of iteration\n",
    "```\n",
    "String name = \"CodeCodeCode\";\n",
    "\n",
    "for (int i = 0; i < name.length(); i+=2) {\n",
    "    System.out.println(name.substring(i,i+2));\n",
    "}\n",
    "```\n",
    "\n"
   ]
  },
  {
   "cell_type": "markdown",
   "metadata": {},
   "source": [
    "##### While Loops\n",
    "\n",
    "- The while loop loops through a block of code as long as a specified condition is true\n",
    "```\n",
    "int i = 0;\n",
    "while (i < 5) {\n",
    "  System.out.println(i);\n",
    "  i++;\n",
    "}\n",
    "```"
   ]
  },
  {
   "cell_type": "markdown",
   "metadata": {},
   "source": [
    "##### Do While Loops\n",
    "\n",
    "- A variant of the while loop\n",
    "    - Executes the code block once, before checking if the condition is true, then it repeats the loop as long as the condition is true\n",
    "```\n",
    "int i = 0;\n",
    "do {\n",
    "  System.out.println(i);\n",
    "  i++;\n",
    "}\n",
    "while (i < 5);\n",
    "```"
   ]
  },
  {
   "cell_type": "markdown",
   "metadata": {},
   "source": [
    "##### Enhanced For Loops\n",
    "\n",
    "\n",
    "- there are also nested while loops\n",
    "    - aren't very practical though \n",
    "- for each loops are similar to for loops \n",
    "    - three portions to it\n",
    "        - array, item, dataType\n"
   ]
  },
  {
   "cell_type": "code",
   "execution_count": 24,
   "metadata": {
    "vscode": {
     "languageId": "java"
    }
   },
   "outputs": [
    {
     "name": "stdout",
     "output_type": "stream",
     "text": [
      "2\n",
      "10\n",
      "5\n",
      "12\n"
     ]
    }
   ],
   "source": [
    "public class ForEachLoops {\n",
    "\n",
    "    public static void main(String[] args) {\n",
    "\n",
    "            // create an array\n",
    "        int[] data = {2, 10, 5, 12};\n",
    "    \n",
    "            // for each loop \n",
    "        for (int number: data) {\n",
    "        System.out.println(number);\n",
    "\n",
    "    }\n",
    "}\n",
    "}\n",
    "ForEachLoops.main(null);"
   ]
  },
  {
   "cell_type": "markdown",
   "metadata": {},
   "source": [
    "##### Nested Loops\n",
    "\n",
    "- nested iteration is where there is a loop within a loop\n",
    "    - similar to nested conditionals\n",
    "```\n",
    "for (int row = 0; row < 5; row ++) {\n",
    "    for (int column = 0; column < 4; column++) {\n",
    "        System.out.print('*');\n",
    "    }\n",
    "    System.out.println();\n",
    "}\n",
    "```"
   ]
  },
  {
   "cell_type": "markdown",
   "metadata": {},
   "source": [
    "### Creating a Class\n",
    "\n",
    "- There are a couple of steps to writing a class\n",
    "    - make sure to use the class keyword to create a class in the start\n",
    "    - To create an object of Main, specify the class name, followed by the object name, and use the keyword new\n",
    "        - Constructors are used to create new objects\n",
    "- Instance variables are used to store any information regarding objects created in a class\n",
    "- Methods are used to show programs a new command they must run\n",
    "    - specific methods are used to perform specific tasks in a class\n",
    "\n",
    "##### Naming Conventions\n",
    "\n",
    "- For variables, the Java naming convention is to always start with a lowercase letter and then capitalize the first letter of every subsequent word\n",
    "    - Variables can't contain white space, so variables made from compound words are to be written with a lower camel case syntax\n",
    "        - firstName\n",
    "        - timeToFirstLoad\n",
    "        - index\n",
    "\n",
    "![Naming Conventions in Java](../images/naming.png)"
   ]
  },
  {
   "cell_type": "markdown",
   "metadata": {},
   "source": [
    "### Constructors\n",
    "\n",
    "- A constructor in Java is a special method that is used to initialize objects\n",
    "    - Called when an object of a class is created\n",
    "    - Used to set initial values for object attributes"
   ]
  },
  {
   "cell_type": "code",
   "execution_count": 25,
   "metadata": {
    "vscode": {
     "languageId": "java"
    }
   },
   "outputs": [
    {
     "name": "stdout",
     "output_type": "stream",
     "text": [
      "5\n"
     ]
    }
   ],
   "source": [
    "public class Main {\n",
    "    int x;  // Create a class attribute\n",
    "  \n",
    "    // Create a class constructor for the Main class\n",
    "    public Main() {\n",
    "      x = 5;  // Set the initial value for the class attribute x\n",
    "    }\n",
    "  \n",
    "    public static void main(String[] args) {\n",
    "      Main myObj = new Main(); // Create an object of class Main (This will call the constructor)\n",
    "      System.out.println(myObj.x); // Print the value of x\n",
    "    }\n",
    "  }\n",
    "Main.main(null);"
   ]
  },
  {
   "cell_type": "markdown",
   "metadata": {},
   "source": [
    "##### No Returns\n",
    "\n",
    "- What actually happens with the constructor is that the runtime uses type data generated by the compiler to determine how much space is needed to store an object instance in memory\n",
    "- Includes all members variables and after the space is designated, the constructor is called as an internal part of the instantiation and initialization process\n",
    "- The constructor exits, the runtime returns the newly-created instance\n",
    "    - Can't return a value because it's not called directly by your code, it's called by the memory allocation and object initialization code in the runtime"
   ]
  }
 ],
 "metadata": {
  "kernelspec": {
   "display_name": "Java",
   "language": "java",
   "name": "java"
  },
  "language_info": {
   "codemirror_mode": "java",
   "file_extension": ".jshell",
   "mimetype": "text/x-java-source",
   "name": "Java",
   "pygments_lexer": "java",
   "version": "17.0.4+8"
  },
  "orig_nbformat": 4,
  "vscode": {
   "interpreter": {
    "hash": "b0fa6594d8f4cbf19f97940f81e996739fb7646882a419484c72d19e05852a7e"
   }
  }
 },
 "nbformat": 4,
 "nbformat_minor": 2
}
