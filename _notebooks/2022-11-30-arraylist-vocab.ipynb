{
 "cells": [
  {
   "cell_type": "markdown",
   "metadata": {},
   "source": [
    "# Week of 11-28, ArrayList and Vocab\n",
    "- toc: true \n",
    "- badges: true\n",
    "- comments: true\n",
    "- categories: [jupyter]"
   ]
  },
  {
   "cell_type": "markdown",
   "metadata": {},
   "source": [
    "--- \n",
    "## Trimester 1 Notes\n",
    "\n",
    "### Casting Notes\n",
    "- Casting is when programmers are trying to assign a value from one data type to another data type\n",
    "    - Widening Casting is when smaller data types convert to bigger data types\n",
    "        - Happens automatically\n",
    "    - Narrowing Casting is when larger data types convert to smaller data types\n",
    "        - Happens manually\n",
    "- The chain of smallest to biggest data types is \n",
    "    - byte, short, char, int, long, float, double"
   ]
  },
  {
   "cell_type": "markdown",
   "metadata": {},
   "source": [
    "##### Widening Casting"
   ]
  },
  {
   "cell_type": "code",
   "execution_count": 4,
   "metadata": {
    "vscode": {
     "languageId": "java"
    }
   },
   "outputs": [
    {
     "name": "stdout",
     "output_type": "stream",
     "text": [
      "9\n",
      "9.0\n"
     ]
    }
   ],
   "source": [
    "public class Main {\n",
    "    public static void main(String[] args) {\n",
    "      int myInt = 9;\n",
    "      double myDouble = myInt; // Automatic casting: int to double\n",
    "  \n",
    "      System.out.println(myInt);      // Outputs 9\n",
    "      System.out.println(myDouble);   // Outputs 9.0\n",
    "    }\n",
    "  }\n",
    "  Main.main(null);"
   ]
  },
  {
   "cell_type": "markdown",
   "metadata": {},
   "source": [
    "##### Narrowing Casting"
   ]
  },
  {
   "cell_type": "code",
   "execution_count": 5,
   "metadata": {
    "vscode": {
     "languageId": "java"
    }
   },
   "outputs": [
    {
     "name": "stdout",
     "output_type": "stream",
     "text": [
      "9.78\n",
      "9\n"
     ]
    }
   ],
   "source": [
    "public class Main {\n",
    "    public static void main(String[] args) {\n",
    "      double myDouble = 9.78d;\n",
    "      int myInt = (int) myDouble; // Manual casting: double to int\n",
    "  \n",
    "      System.out.println(myDouble);   // Outputs 9.78\n",
    "      System.out.println(myInt);      // Outputs 9\n",
    "    }\n",
    "  }\n",
    "  Main.main(null);"
   ]
  },
  {
   "cell_type": "markdown",
   "metadata": {},
   "source": [
    "##### Casting with Division\n",
    "\n",
    "- Java typically assumes that an integer result is appropriate when doing division with integers\n",
    "    - However, using a mixture of integers (int) and floating point numbers (double), Java assumes that a double result is appropriate\n",
    "        - To do this though, one must use casting\n",
    "            - Cast one of the integers to a double using (double), changing the “shape” or the data type of the variable"
   ]
  },
  {
   "cell_type": "code",
   "execution_count": 10,
   "metadata": {
    "vscode": {
     "languageId": "java"
    }
   },
   "outputs": [
    {
     "name": "stdout",
     "output_type": "stream",
     "text": [
      "0\n",
      "0.3333333333333333\n",
      "0.3333333333333333\n",
      "0.33333334\n"
     ]
    }
   ],
   "source": [
    "public class Test\n",
    "{\n",
    "   public static void main(String[] args)\n",
    "   {\n",
    "    // automatic casting here\n",
    "     System.out.println(1 / 3);\n",
    "     System.out.println(1.0 / 3);\n",
    "     System.out.println(1 / 3.0);\n",
    "     // manual casting here\n",
    "     System.out.println((float) 1 / 3);\n",
    "   }\n",
    "}\n",
    "Test.main(null);"
   ]
  },
  {
   "cell_type": "markdown",
   "metadata": {},
   "source": [
    "##### Casting with Truncating\n",
    "\n",
    "- Truncating a number essentially means to round it\n",
    "    - In division, using truncating would mean to remove the amount of decimal or fractional numbers to create an intended result"
   ]
  },
  {
   "cell_type": "code",
   "execution_count": 12,
   "metadata": {
    "vscode": {
     "languageId": "java"
    }
   },
   "outputs": [
    {
     "name": "stdout",
     "output_type": "stream",
     "text": [
      "The number before truncation is: 19.87874548973101\n",
      "The number after truncation is: 19.87874\n"
     ]
    }
   ],
   "source": [
    "import java.io.*;   \n",
    "public class TrunctionExample1  \n",
    "{   \n",
    "//driver code  \n",
    "public static void main(String args[])   \n",
    "{   \n",
    "//the number to truncate      \n",
    "double num = 19.87874548973101;   \n",
    "//number of digits to take after decimal  \n",
    "int digits = 5;   \n",
    "System.out.println(\"The number before truncation is: \"+num);   \n",
    "//calling user-defined method that truncates a number  \n",
    "truncateNumber(num, digits);   \n",
    "}  \n",
    "//user-defined method to truncate a number      \n",
    "static void truncateNumber(double n, int decimalplace)   \n",
    "{   \n",
    "//moves the decimal to the right   \n",
    "n = n* Math.pow(10, decimalplace);   \n",
    "//determines the floor value  \n",
    "n = Math.floor(n);   \n",
    "//dividing the floor value by 10 to the power decimalplace  \n",
    "n = n / Math.pow(10, decimalplace);   \n",
    "//prints the number after truncation  \n",
    "System.out.println(\"The number after truncation is: \"+n);   \n",
    "}   \n",
    "}  \n",
    "TrunctionExample1.main(null);"
   ]
  },
  {
   "cell_type": "markdown",
   "metadata": {},
   "source": [
    "### Wrapper Classes\n",
    "\n",
    "- Is essentially the practice of using primitive data types as objects\n",
    "- You can use certain methods to get information about the specific object\n",
    "    Methods like the following are used to get the value associated with the respective wrapper object\n",
    "    ```\n",
    "    intValue(), byteValue(), shortValue(), longValue(), floatValue(), doubleValue(), charValue(), booleanValue()\n",
    "    ```"
   ]
  },
  {
   "cell_type": "code",
   "execution_count": 13,
   "metadata": {
    "vscode": {
     "languageId": "java"
    }
   },
   "outputs": [
    {
     "name": "stdout",
     "output_type": "stream",
     "text": [
      "5\n",
      "5.99\n",
      "A\n"
     ]
    }
   ],
   "source": [
    "public class Main {\n",
    "    public static void main(String[] args) {\n",
    "      Integer myInt = 5;\n",
    "      Double myDouble = 5.99;\n",
    "      Character myChar = 'A';\n",
    "      System.out.println(myInt.intValue());\n",
    "      System.out.println(myDouble.doubleValue());\n",
    "      System.out.println(myChar.charValue());\n",
    "    }\n",
    "  }\n",
    "Main.main(null);"
   ]
  },
  {
   "cell_type": "markdown",
   "metadata": {},
   "source": [
    "- The  ``` to String()``` method can be used when converting wrapper object to strings\n",
    "    - The  ``` length() ``` outputs the length of the \"string\" when converting an int to a string"
   ]
  },
  {
   "cell_type": "code",
   "execution_count": 14,
   "metadata": {
    "vscode": {
     "languageId": "java"
    }
   },
   "outputs": [
    {
     "name": "stdout",
     "output_type": "stream",
     "text": [
      "3\n"
     ]
    }
   ],
   "source": [
    "public class Main {\n",
    "    public static void main(String[] args) {\n",
    "      Integer myInt = 100;\n",
    "      String myString = myInt.toString();\n",
    "      System.out.println(myString.length());\n",
    "    }\n",
    "  }\n",
    "Main.main(null);"
   ]
  },
  {
   "cell_type": "markdown",
   "metadata": {},
   "source": [
    "### Concatenation\n",
    "\n",
    "- Combining two or more strings to form a new string\n",
    "    - Happens by appending the next string to the end of the previous strings\n",
    "    - In Java, two strings can be concatenated by using the + or += operator, or the ``` concat() ``` method in the java.lang.String class\n",
    "- Example\n",
    "    - H E L L O  +   W O R L D becomes\n",
    "    - H E L L O W O R L D"
   ]
  },
  {
   "cell_type": "markdown",
   "metadata": {},
   "source": [
    "##### Concatenation Using + Operator"
   ]
  },
  {
   "cell_type": "code",
   "execution_count": 15,
   "metadata": {
    "vscode": {
     "languageId": "java"
    }
   },
   "outputs": [
    {
     "name": "stdout",
     "output_type": "stream",
     "text": [
      "HelloWorld\n",
      "HelloWorld\n"
     ]
    }
   ],
   "source": [
    "class HelloWorld {\n",
    "    public static void main( String args[] ) {\n",
    "        String first = \"Hello\"; \n",
    "        String second = \"World\";\n",
    "\n",
    "        // way 1\n",
    "        String third = first + second;\n",
    "        System.out.println(third);\n",
    "\n",
    "        // way 2\n",
    "        first += second;\n",
    "        System.out.println(first);        \n",
    "    }\n",
    "}\n",
    "HelloWorld.main(null);"
   ]
  },
  {
   "cell_type": "markdown",
   "metadata": {},
   "source": [
    "##### Concatenation Using Concat Method"
   ]
  },
  {
   "cell_type": "code",
   "execution_count": 16,
   "metadata": {
    "vscode": {
     "languageId": "java"
    }
   },
   "outputs": [
    {
     "name": "stdout",
     "output_type": "stream",
     "text": [
      "HelloWorld\n"
     ]
    }
   ],
   "source": [
    "class HelloWorld {\n",
    "    public static void main( String args[] ) {\n",
    "        String first = \"Hello\"; \n",
    "        String second = \"World\";\n",
    "\n",
    "        String third = first.concat(second); \n",
    "        System.out.println(third);\n",
    "    }\n",
    "}\n",
    "HelloWorld.main(null);"
   ]
  }
 ],
 "metadata": {
  "kernelspec": {
   "display_name": "Java",
   "language": "java",
   "name": "java"
  },
  "language_info": {
   "codemirror_mode": "java",
   "file_extension": ".jshell",
   "mimetype": "text/x-java-source",
   "name": "Java",
   "pygments_lexer": "java",
   "version": "17.0.4+8"
  },
  "orig_nbformat": 4,
  "vscode": {
   "interpreter": {
    "hash": "b0fa6594d8f4cbf19f97940f81e996739fb7646882a419484c72d19e05852a7e"
   }
  }
 },
 "nbformat": 4,
 "nbformat_minor": 2
}
