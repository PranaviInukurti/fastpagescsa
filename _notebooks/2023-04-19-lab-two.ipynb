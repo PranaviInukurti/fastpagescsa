{
 "cells": [
  {
   "attachments": {},
   "cell_type": "markdown",
   "metadata": {},
   "source": [
    "# Lab 2 - Notes and Hacks\n",
    "\n",
    "- toc: false \n",
    "- badges: true\n",
    "- comments: true\n",
    "- categories: [jupyter]"
   ]
  },
  {
   "attachments": {},
   "cell_type": "markdown",
   "metadata": {},
   "source": [
    "### Array Basics\n",
    "\n",
    "- Can contain primitives (int, char, etc) and object references of a class\n",
    "    - Primitive data types have their actual values stored in contiguous memory location.\n",
    "- Arrays are fixed in size\n",
    "- Arrays can be used as a static field, local variable, or method parameter\n",
    "- How an array is stored\n",
    "    - ![array](https://media.geeksforgeeks.org/wp-content/uploads/Arrays1.png)"
   ]
  },
  {
   "cell_type": "code",
   "execution_count": null,
   "metadata": {
    "vscode": {
     "languageId": "java"
    }
   },
   "outputs": [],
   "source": [
    "//BASIC ARRAY CONCEPTS\n",
    "\n",
    "//Declare an array and then allocate memory\n",
    "int myArray[];\n",
    "myArray = new int[4];\n",
    "\n",
    "//Declare while directly assign values\n",
    "int[] myArray1 = new int[]{ 1, 6, 7, 9};\n",
    "\n",
    "//Initialize element\n",
    "myArray[0] = 2;\n",
    "\n",
    "//Create an array of objects\n",
    "Object[] arr = new Object[5];"
   ]
  },
  {
   "attachments": {},
   "cell_type": "markdown",
   "metadata": {},
   "source": [
    "### Traversing Arrays\n",
    "\n",
    "- A for loop allows you to access the index, and manipulations can be done by changing the incrementor (ie. i+=2 instead of i++)\n",
    "    - can show the index\n",
    "- An enhanced for loop is simpler but you CANNOT access the index, only the value\n",
    "    - shows only the value\n",
    "\n",
    "### Hack 1\n",
    "Create method that sets all elements in array to n"
   ]
  },
  {
   "cell_type": "code",
   "execution_count": 1,
   "metadata": {
    "vscode": {
     "languageId": "java"
    }
   },
   "outputs": [
    {
     "name": "stdout",
     "output_type": "stream",
     "text": [
      "10\n",
      "10\n",
      "10\n",
      "10\n",
      "10\n",
      "10\n",
      "10\n",
      "10\n",
      "10\n",
      "10\n"
     ]
    }
   ],
   "source": [
    "void setArray(int[] arr, int n) {\n",
    "    // your code here\n",
    "    for (int i = 0; i < arr.length; i++) {\n",
    "        arr[i] = n;\n",
    "    }\n",
    "}\n",
    "\n",
    "int[] array = new int[10];\n",
    "setArray(array, 10);\n",
    "\n",
    "for (int i = 0; i<array.length; i++) {\n",
    "    System.out.println(array[i]);\n",
    "}\n",
    "\n",
    "// Should print all 10s when working properly\n"
   ]
  },
  {
   "attachments": {},
   "cell_type": "markdown",
   "metadata": {},
   "source": [
    "### Hack 2\n",
    "Write an array to find the average of an array"
   ]
  },
  {
   "cell_type": "code",
   "execution_count": 6,
   "metadata": {
    "vscode": {
     "languageId": "java"
    }
   },
   "outputs": [
    {
     "name": "stdout",
     "output_type": "stream",
     "text": [
      "5\n"
     ]
    }
   ],
   "source": [
    "//Finds the maximum in an array\n",
    "public static int average(int[] array) {\n",
    "    // put your code here\n",
    "    int avg = 0;\n",
    "    for (int i = 0; i < array.length; i++) {\n",
    "        avg += array[i];\n",
    "    }\n",
    "    avg /= array.length;\n",
    "    return avg;\n",
    "}\n",
    "\n",
    "//tester array\n",
    "int[] test = {3, 5, 7, 2, 10};\n",
    "\n",
    "System.out.println(average(test));"
   ]
  },
  {
   "attachments": {},
   "cell_type": "markdown",
   "metadata": {},
   "source": [
    "### 2D Arrays\n",
    "\n",
    "- A 2-D array is an array of arrays, and stores data similar to a row and column fashion\n",
    "- Length is determined by the number of rows in the array\n",
    "    - The number of arrays in the 2-D array\n",
    "- Columns is based on the size of each row of an array and can be determined based on the number of elements in the first row\n",
    "- The 2D array is useful to represent a matrix\n",
    "    - Accessed by the rows and columns\n",
    "- When thinking of 2D array, think of a grid\n",
    "    - Think of initialization as well\n",
    "\n",
    "### Traversing a 2D Array\n",
    "\n",
    "- Important to think of whether the array is column or row major order\n",
    "- need to use nested for loops or nested enhanced for loops"
   ]
  },
  {
   "attachments": {},
   "cell_type": "markdown",
   "metadata": {},
   "source": [
    "### Hack 3\n",
    "\n",
    "Find the average number of a diagonal in a 2d array"
   ]
  },
  {
   "cell_type": "code",
   "execution_count": 17,
   "metadata": {
    "vscode": {
     "languageId": "java"
    }
   },
   "outputs": [
    {
     "name": "stdout",
     "output_type": "stream",
     "text": [
      "8\n"
     ]
    }
   ],
   "source": [
    "public static int averageDiagonal (int[][] array2D) {\n",
    "    // your code here\n",
    "    int sum = 0, count = 0;\n",
    "\n",
    "    for (int i = 0; i < arr.length; i++) {\n",
    "        for (int j = 0; j < arr[i].length; j++) {\n",
    "            if (i == j) { // checks if the current element is on the diagonal\n",
    "                sum += arr[i][j];\n",
    "                count++;\n",
    "            }\n",
    "        }\n",
    "    }\n",
    "    int average = (int) sum / count;\n",
    "    return average;\n",
    "}\n",
    "\n",
    "int[][] arr = {\n",
    "    {1,2,3,4,5,6},\n",
    "    {7,8,9,10,11,12},\n",
    "    {0,1,2,3,4,5},\n",
    "    {10,11,12,13,14,15},\n",
    "    {15,16,17,18,19,20}\n",
    "};\n",
    "\n",
    "System.out.println(averageDiagonal(arr));"
   ]
  },
  {
   "attachments": {},
   "cell_type": "markdown",
   "metadata": {},
   "source": [
    "### 2018 FRQ Question 4\n",
    "\n",
    "This question involves reasoning about arrays of integers. You will write two static methods, both of which are in a class named ArrayTester.\n",
    "![2018frq](../images/2018frq.png)\n",
    "\n",
    "Complete method getColumn below.\n",
    "\n",
    "```\n",
    "/** Returns an array containing the elements of a column c of arr2D in the same order as they appear in arr2D.\n",
    "* Precondition c is a valid column index in arr2D\n",
    "* Postcondition arr2D is unchanged\n",
    "*/\n",
    "public static int[] getColumn(int [][] arr2D, int c)\n",
    "```"
   ]
  },
  {
   "cell_type": "code",
   "execution_count": null,
   "metadata": {
    "vscode": {
     "languageId": "java"
    }
   },
   "outputs": [],
   "source": []
  },
  {
   "attachments": {},
   "cell_type": "markdown",
   "metadata": {},
   "source": [
    "![2018frqpartb](../images/2018frqpartb.png)\n",
    "\n",
    "Complete method isLatin below. Assume that getColumn works as specified, regardless of what you wrote in part (a). You must use getColumn, hasAllValues, and containDuplicates appropriately to receive full credit. \n",
    "\n",
    "```\n",
    "/** Returns true if square is a Latin square as described in parat (b);\n",
    "*              false otherwise.\n",
    "* Precondition square has an equal number of rows and columns\n",
    "*              square has at least one row\n",
    "*/\n",
    "public static boolean isLatin(int[][] square)\n",
    "```"
   ]
  }
 ],
 "metadata": {
  "kernelspec": {
   "display_name": "Java",
   "language": "java",
   "name": "java"
  },
  "language_info": {
   "codemirror_mode": "java",
   "file_extension": ".jshell",
   "mimetype": "text/x-java-source",
   "name": "Java",
   "pygments_lexer": "java",
   "version": "17.0.4+8"
  },
  "orig_nbformat": 4
 },
 "nbformat": 4,
 "nbformat_minor": 2
}
