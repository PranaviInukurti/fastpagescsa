{
 "cells": [
  {
   "attachments": {},
   "cell_type": "markdown",
   "metadata": {},
   "source": [
    "# 2015 Practice Exam MCQ Corrections\n",
    "> Notebook from Trimester 3 (3/10/2023). This is a deeper analysis on the result and mistakes I made on this practice multiple choice test.\n",
    "\n",
    "- toc: false \n",
    "- badges: true\n",
    "- comments: true\n",
    "- categories: [jupyter]"
   ]
  },
  {
   "attachments": {},
   "cell_type": "markdown",
   "metadata": {},
   "source": [
    "### Question 13\n",
    "\n",
    "Consider the following instance variable and method.\n",
    "\n",
    "```\n",
    "private int, open square bracket, close square bracket, numbers, semicolon. \n",
    "\n",
    "public void mystery, open parenthesis, int x, close parenthesis. \n",
    "{\n",
    "for (int k equals 1; k < numbers.length; k = k + x)\n",
    "    {\n",
    "        numbers[k] = numbers[k-1] + x;\n",
    "    }\n",
    "}\n",
    "```\n",
    "\n",
    "Assume that numbers has been initialized with the following values.\n",
    "{17, 34, 21, 42, 15, 69, 48, 25, 39}\n",
    "Which of the following represents the order of the values in numbers as a result of the call mystery(3)?\n",
    "\n",
    "##### Answer\n",
    "Answer option D \"{20, 23, 21, 42, 45, 69, 51, 54, 39}\" is incorrect because this result modifies five values in numbers, but since the loop control variable k starts at 1 and is incremented by 3, only three elements will be updated. The correct answer option would be answer A \"{17, 20, 21, 42, 45, 69, 48, 51, 39}.\" The values of the loop control variable k starts at 1 and is incremented by 3 as long as k is less than numbers.length. As a result, k will have the values 1, 4, 7 and then when it becomes 10, the loop will end. Only the values in numbers at indexes 1, 4, and 7 will be updated to the value of the sum of the element at the index that is one less than k (the element before the one being updated) and 3. So, numbers[1] will be assigned the value of numbers[0] + 3 or 20, numbers[4] will be assigned the value of numbers[3] + 3 or 45, and numbers[7] will be assigned the value of numbers[6] + 3 or 51. All other values will be unchanged.\n"
   ]
  },
  {
   "attachments": {},
   "cell_type": "markdown",
   "metadata": {},
   "source": [
    "### Question 14\n",
    "\n",
    "Consider the following method, biggest, which is intended to return the greatest of three integers. It does not always work as intended.\n",
    "\n",
    "```\n",
    "public static int biggest (int a comma int b comma int c)\n",
    "{\n",
    "    if ((a > b) && (a > c))\n",
    "    {\n",
    "        return a;\n",
    "    }\n",
    "    else if ((b > a) && (b > c))\n",
    "    {\n",
    "        return b;\n",
    "    }\n",
    "    else\n",
    "    {\n",
    "        return c;\n",
    "    }\n",
    "}\n",
    "```\n",
    "\n",
    "Which of the following best describes the error in the method?\n",
    "\n",
    "##### Answer\n",
    "\n",
    "Answer option E is wrong because the example where a = 3, b = 5, and c = 5. In this case, the first boolean condition evaluates to false since a is not greater than b and the second boolean condition evaluates to false since b is not greater than c, and the value of c is returned, which is the greatest of all three integers. Consider the second example where a = 6, b = 5, and c = 5. In this case, the first boolean condition evaluates to true since a is greater than b and a is greater than c, and the value of a is returned, the greatest of the three values. Therefore, the correct answer option is C since the example where a = 5, b = 5, and c = 3. The boolean expression ((a > b) && (a > c)) would be false because a is not greater than b, so the code will evaluate the boolean expression in the else if. The boolean expression ((b > a) && (b > c)) will also evaluate to false because b is not greater than a, this will cause c to be returned, however c is the smallest of the three integers and not the greatest."
   ]
  },
  {
   "attachments": {},
   "cell_type": "markdown",
   "metadata": {},
   "source": [
    "### Question 18\n",
    "\n",
    "What is printed as a result of executing the following statement?\n",
    "\n",
    "```\n",
    "System.out.println(404 / 10 * 10 + 1);\n",
    "```\n",
    "\n",
    "##### Answer\n",
    "\n",
    "Answer option E with 405 is incorrect since this would be the result if the division used was floating point division instead of integer division and the result was cast to an int, as in (int)(404.0 / 10 * 10 + 1). The correct answer option is D with 401 since the first operation that is executed is 404 / 10. Since both 404 and 10 are integers, integer division is used resulting in 40. The value 40 is then multiplied by 10, resulting in 400, and finally 1 is added, meaning 401 is printed."
   ]
  },
  {
   "attachments": {},
   "cell_type": "markdown",
   "metadata": {},
   "source": [
    "### Question 19\n",
    "\n",
    "Consider the following code segment.\n",
    "\n",
    "```\n",
    "int x = 1;\n",
    "while ( /* condition */ )\n",
    "{\n",
    "    if (x % 2 == 0)\n",
    "    {\n",
    "        System.out.print(x + \" \");\n",
    "    }\n",
    "    x = x + 2;\n",
    "} \n",
    "```\n",
    "\n",
    "The following conditions have been proposed to replace /* condition */ in the code segment.\n",
    "\n",
    "I. x < 0\n",
    "II. x <= 1\n",
    "III. x < 10\n",
    "\n",
    "For which of the conditions will nothing be printed?\n",
    "\n",
    "##### Answer\n",
    "\n",
    "Answer option C is incorrect since in condition III, the while loop will execute for x having the value 1, 3, 5, 7, and 9. When x becomes 11 the loop will terminate. Even though the loop executes multiple times, the values assigned to x are not even, so nothing is printed. The correct answer option is E since in condition I, the while loop will not execute, since 1, the value of x, is not less than 0, so nothing will be printed. In condition II, the while loop will execute one time, since 1, the value of x is less than or equal to 1, however, 1 is not even, so nothing will be printed. The value of x will then be incremented to 3, which is not less than or equal to 1, and the loop will terminate. In condition III,  the while loop will execute for x having the value 1, 3, 5, 7, and 9. When x becomes 11 the loop will terminate. Even though the loop executes multiple times, the values assigned to x are not even, so nothing is printed."
   ]
  },
  {
   "attachments": {},
   "cell_type": "markdown",
   "metadata": {},
   "source": [
    "### Question 31\n",
    "\n",
    "Consider the following code segment.\n",
    "\n",
    "![question31](../images/question31.png)\n",
    "\n",
    "Which of the following represents board after this code segment is executed?\n",
    "\n",
    "##### Answer\n",
    "\n",
    "Answer option C is incorrect since this image could be accomplished by iterating board and setting all locations where row == col to “X” and all locations where row + column == board.length-1 to “X”. Therefore, answer option E is the correct option since the first set of nested for loops sets each element in board to “O”. The next for loop starts val at 0 and increments by 1 until val is 4, when val is 5 the loop terminates. When val is even, board is not updated, so nothing happens when val is 0. When val is 1, row is assigned 1 and col is assigned 0. The boolean condition in the while loop is true, so board[1][0] is assigned “X”. Then col is incremented to 1 and row is decremented to 0 and board[0][1] is assigned “X”. Then col is incremented to 2 and row is decremented to -1 and the while loop terminates. When val is 2, nothing changes about board. When val is 3, row is assigned 3 and col is assigned 0. The boolean condition in the while loop is true, so board[3][0] is assigned “X”. Then col is incremented to 1 and row is decremented to 2 and board[2][1] is assigned “X”. Then col is incremented to 2 and row is decremented to 1 and board[1][2] is assigned “X”. Then col is incremented to 3 and row is decremented to 0 and board[0][3] is assigned “X”. Finally, col is incremented to 4 and row is decremented to -1 and the while loop terminates. When val is 4, nothing changes about board."
   ]
  }
 ],
 "metadata": {
  "kernelspec": {
   "display_name": "Java",
   "language": "java",
   "name": "java"
  },
  "language_info": {
   "name": "java"
  },
  "orig_nbformat": 4
 },
 "nbformat": 4,
 "nbformat_minor": 2
}
